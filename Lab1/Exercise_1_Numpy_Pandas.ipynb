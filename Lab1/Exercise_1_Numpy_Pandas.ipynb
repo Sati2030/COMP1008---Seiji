{
 "cells": [
  {
   "cell_type": "markdown",
   "id": "0851c858",
   "metadata": {},
   "source": [
    "<h1><center>COMP1008: Exercise 1<br/>Introduction to NumPy and Pandas</center></h1>"
   ]
  },
  {
   "cell_type": "markdown",
   "id": "bf3d8c5c",
   "metadata": {},
   "source": [
    "NumPy and Pandas are two extremely useful Python libraries for COMP1008 exercises and coursework. They provide powerful and flexible mathematical and data analysis methods for machine learning and data science.\n",
    "\n",
    "This tutorial provides some examples on basic data manipulation using NumPy and Pandas. Some hand-on tasks are designed for you to practice your data manipulation skills."
   ]
  },
  {
   "cell_type": "markdown",
   "id": "0304eb75",
   "metadata": {},
   "source": [
    "<div id=\"partone\"><h2><center>Part 1: NumPy Basics</center></h2></div>\n",
    "\n",
    "The [NumPy](https://numpy.org/doc/stable/user/absolute_beginners.html) library in Python provides a powerful array object `ndarray` to handle well-organized data in numerical tasks. NumPy should be already installed with Anaconda. We simply import it and call it `np`. "
   ]
  },
  {
   "cell_type": "code",
   "execution_count": null,
   "id": "643dfb47",
   "metadata": {},
   "outputs": [],
   "source": [
    "import numpy as np"
   ]
  },
  {
   "cell_type": "markdown",
   "id": "42e964a5",
   "metadata": {},
   "source": [
    "## 1.1. Introduction to NumPy arrays\n",
    "\n",
    "`ndarray` is a homogeneous n-dimensional array object, with <b>methods</b> and <b>attributes</b> to efficiently operate on data. It can hold a collection of items of any one data type, either in a vector (1D one-dimensional) or a matrix (multi-dimensional).\n",
    "\n",
    "### Creating NumPy arrays"
   ]
  },
  {
   "cell_type": "markdown",
   "id": "ddc93681",
   "metadata": {},
   "source": [
    "Method `np.array()` can easily create NumPy arrays."
   ]
  },
  {
   "cell_type": "code",
   "execution_count": null,
   "id": "b3616bd4",
   "metadata": {},
   "outputs": [],
   "source": [
    "arr1 = np.array([1, 2, 3, 4, 5, 6, 7, 8]) # 1D array\n",
    "arr1"
   ]
  },
  {
   "cell_type": "code",
   "execution_count": null,
   "id": "5db0ace9",
   "metadata": {},
   "outputs": [],
   "source": [
    "arr2 = np.array([[1, 2, 3, 4], [5, 6, 7, 8], [9, 10, 11, 12]])\n",
    "arr2 # a 3X4 matrix"
   ]
  },
  {
   "cell_type": "markdown",
   "id": "37c8d6dd",
   "metadata": {},
   "source": [
    "Attributes such as `shape`, `size`, `dtype` can provide useful information of the arrays."
   ]
  },
  {
   "cell_type": "code",
   "execution_count": null,
   "id": "2661bf65",
   "metadata": {},
   "outputs": [],
   "source": [
    "# the dimensions of the array.\n",
    "arr2.shape"
   ]
  },
  {
   "cell_type": "code",
   "execution_count": null,
   "id": "af362b36",
   "metadata": {},
   "outputs": [],
   "source": [
    "# the type of the elements in the array.\n",
    "arr2.dtype"
   ]
  },
  {
   "cell_type": "markdown",
   "id": "491b10d5",
   "metadata": {},
   "source": [
    "We can explicitly set the data type of a `ndarray` with the `dtype` parameter in the `array` method, and convert its type using the `astype` method."
   ]
  },
  {
   "cell_type": "code",
   "execution_count": null,
   "id": "6f79c746",
   "metadata": {},
   "outputs": [],
   "source": [
    "# Construct an array with data of type float32\n",
    "arr3 = np.array([1, 4, 2, 5, 3], dtype='float32')\n",
    "\n",
    "# Check the type of the elements in the array.\n",
    "arr3.dtype"
   ]
  },
  {
   "cell_type": "code",
   "execution_count": null,
   "id": "df5846c1",
   "metadata": {},
   "outputs": [],
   "source": [
    "# Convert an array from type float32 to int8\n",
    "arr3 = arr3.astype(dtype=np.int8)\n",
    "arr3.dtype"
   ]
  },
  {
   "cell_type": "markdown",
   "id": "20e28409",
   "metadata": {},
   "source": [
    "Other methods to easily construct NumPy arrays."
   ]
  },
  {
   "cell_type": "code",
   "execution_count": null,
   "id": "1751ae66",
   "metadata": {},
   "outputs": [],
   "source": [
    "# Create a 1D length-10 integer array filled with zeros\n",
    "np.zeros(10)"
   ]
  },
  {
   "cell_type": "code",
   "execution_count": null,
   "id": "088baa6d",
   "metadata": {},
   "outputs": [],
   "source": [
    "# Create a 3x5 floating-point array filled with ones\n",
    "np.ones((3, 5), dtype=float)"
   ]
  },
  {
   "cell_type": "code",
   "execution_count": null,
   "id": "8c8c39ea",
   "metadata": {},
   "outputs": [],
   "source": [
    "# Create a linear sequence starting at 0 ending at 20, with a step of 2\n",
    "np.arange(0, 20, 2)"
   ]
  },
  {
   "cell_type": "code",
   "execution_count": null,
   "id": "a247a948",
   "metadata": {},
   "outputs": [],
   "source": [
    "# Create an array of five values evenly spaced between 0 and 1\n",
    "np.linspace(0, 1, 5)"
   ]
  },
  {
   "cell_type": "code",
   "execution_count": null,
   "id": "c2ef50f7",
   "metadata": {},
   "outputs": [],
   "source": [
    "# Create a 3x3 array of uniformly distributed random values in [0.0, 1.0)\n",
    "np.random.random((3, 3))"
   ]
  },
  {
   "cell_type": "code",
   "execution_count": null,
   "id": "c05b9f4a",
   "metadata": {},
   "outputs": [],
   "source": [
    "# Create a 5x3 array of random integers in [0, 10)\n",
    "np.random.randint(0, 10, (5, 3))"
   ]
  },
  {
   "cell_type": "markdown",
   "id": "45789846",
   "metadata": {},
   "source": [
    "<b>Note</b>: You can use the `?` character to access the built-in documentation of functions. Refer to [Help and Documentation in IPython](https://jakevdp.github.io/PythonDataScienceHandbook/01.01-help-and-documentation.html) for more information."
   ]
  },
  {
   "cell_type": "code",
   "execution_count": null,
   "id": "6a96a646",
   "metadata": {},
   "outputs": [],
   "source": [
    "np.zeros?"
   ]
  },
  {
   "cell_type": "markdown",
   "id": "c80dc39f",
   "metadata": {},
   "source": [
    "<div class=\"alert alert-info\">\n",
    "    <h4>Task 1.1</h4>\n",
    "</div>\n",
    "\n",
    "Create a 1D array of numbers from 0 to 9 and name it `arr1`. Display the resulting array."
   ]
  },
  {
   "cell_type": "code",
   "execution_count": null,
   "id": "9bc3906d",
   "metadata": {},
   "outputs": [],
   "source": [
    "# Your code goes here\n",
    "\n",
    "\n"
   ]
  },
  {
   "cell_type": "markdown",
   "id": "d4f4912d",
   "metadata": {},
   "source": [
    "## 1.2. Indexing and Data Slicing in NumPy\n",
    "NumPy arrays offer fast element access for efficient data manipulation.\n",
    "\n",
    "### Indexing\n",
    "The (<i>i,j</i>)-th value (from index zero) can be accessed by specifying its index in `[,]`."
   ]
  },
  {
   "cell_type": "code",
   "execution_count": null,
   "id": "57d0e03c",
   "metadata": {},
   "outputs": [],
   "source": [
    "# Create a 5x3 array of random integers in the interval [0, 10)\n",
    "arr4 = np.random.randint(0, 10, (4, 3))\n",
    "arr4"
   ]
  },
  {
   "cell_type": "code",
   "execution_count": null,
   "id": "773d8ea0",
   "metadata": {},
   "outputs": [],
   "source": [
    "arr4[0,0]"
   ]
  },
  {
   "cell_type": "code",
   "execution_count": null,
   "id": "3b8484d9",
   "metadata": {},
   "outputs": [],
   "source": [
    "# Indexing from the end of the array\n",
    "arr4[3,-1]"
   ]
  },
  {
   "cell_type": "markdown",
   "id": "a5880ac0",
   "metadata": {},
   "source": [
    "Using the above indexing notation, we can modify the values of the NumPy array."
   ]
  },
  {
   "cell_type": "code",
   "execution_count": null,
   "id": "c14803db",
   "metadata": {},
   "outputs": [],
   "source": [
    "# Modify the value of the arrary\n",
    "arr4[0,0] = 0\n",
    "arr4"
   ]
  },
  {
   "cell_type": "markdown",
   "id": "d7fb15ec",
   "metadata": {},
   "source": [
    "### Data slicing\n",
    "\n",
    "`arr[start:stop:step]` selects a sub-array in NumPy. Short syntax `arr[:stop]` and `arr[start:]` use the default starting and ending index."
   ]
  },
  {
   "cell_type": "code",
   "execution_count": null,
   "id": "0b5b6066",
   "metadata": {
    "scrolled": true
   },
   "outputs": [],
   "source": [
    "# starting from index 0 till the 5th location\n",
    "arr1[:5]"
   ]
  },
  {
   "cell_type": "code",
   "execution_count": null,
   "id": "a6bb99f7",
   "metadata": {},
   "outputs": [],
   "source": [
    "# from index 1 till the end\n",
    "arr1[1:]"
   ]
  },
  {
   "cell_type": "code",
   "execution_count": null,
   "id": "472a3f3e",
   "metadata": {},
   "outputs": [],
   "source": [
    "# similar syntax for 2D array: every row, the first two columns\n",
    "arr2[:,:2]"
   ]
  },
  {
   "cell_type": "code",
   "execution_count": null,
   "id": "ad59f196",
   "metadata": {},
   "outputs": [],
   "source": [
    "# every other row, all columns\n",
    "arr2[::2, :]"
   ]
  },
  {
   "cell_type": "code",
   "execution_count": null,
   "id": "699a40c8",
   "metadata": {},
   "outputs": [],
   "source": [
    "# use condiction to select values in the array that are in (2,8)\n",
    "arr1[(arr1>2)&(arr1<8)]"
   ]
  },
  {
   "cell_type": "code",
   "execution_count": null,
   "id": "4f8a6092",
   "metadata": {},
   "outputs": [],
   "source": [
    "# Replace those values > 3 by 2\n",
    "arr1[arr1>3] = 2\n",
    "arr1"
   ]
  },
  {
   "cell_type": "markdown",
   "id": "b43bee6a",
   "metadata": {},
   "source": [
    "<div class=\"alert alert-info\">\n",
    "    <h4>Task 1.2</h4>\n",
    "</div>\n",
    "\n",
    "Extract all odd numbers from `arr1`. <b>Hint</b>: think about the condition to use for data slicing."
   ]
  },
  {
   "cell_type": "code",
   "execution_count": null,
   "id": "0f4da3e6",
   "metadata": {},
   "outputs": [],
   "source": [
    "# Your code goes here\n",
    "\n",
    "\n"
   ]
  },
  {
   "cell_type": "markdown",
   "id": "84dd22b5",
   "metadata": {},
   "source": [
    "## 1.3. Computation in NumPy\n",
    "\n",
    "### Mathematical operations\n",
    "\n",
    "NumPy provides a wide variety of straightforward mathematical operations on arrays."
   ]
  },
  {
   "cell_type": "code",
   "execution_count": null,
   "id": "bd2e1976",
   "metadata": {
    "scrolled": false
   },
   "outputs": [],
   "source": [
    "arr5 = np.linspace(0, 1, 8)\n",
    "print('arr1:\\n',arr1)\n",
    "print('arr5:\\n',arr5)"
   ]
  },
  {
   "cell_type": "code",
   "execution_count": null,
   "id": "f4b02c52",
   "metadata": {},
   "outputs": [],
   "source": [
    "# Add items elementwise by using operator +.\n",
    "arr1+arr5"
   ]
  },
  {
   "cell_type": "code",
   "execution_count": null,
   "id": "ab897a2f",
   "metadata": {},
   "outputs": [],
   "source": [
    "# Multiply items elementwise by using method multiply.\n",
    "np.multiply(arr5,10)"
   ]
  },
  {
   "cell_type": "code",
   "execution_count": null,
   "id": "1a2846b0",
   "metadata": {},
   "outputs": [],
   "source": [
    "# Return square-root of an array, elementwise, using method sqrt.\n",
    "np.sqrt(arr1)"
   ]
  },
  {
   "cell_type": "code",
   "execution_count": null,
   "id": "8f141871",
   "metadata": {},
   "outputs": [],
   "source": [
    "# Array elements raised to powers elementwise.\n",
    "np.power(arr1,3)"
   ]
  },
  {
   "cell_type": "markdown",
   "id": "0a72667f",
   "metadata": {},
   "source": [
    "<div class=\"alert alert-info\">\n",
    "    <h4>Task 1.3</h4>\n",
    "</div> \n",
    "\n",
    "Given the array `N`, calculate and print: $2*N$, $N^2$, $N^8$, and $2^N$.<br>\n",
    "<b>Hint</b>: find the suitable [mathematical operations](https://numpy.org/doc/stable/reference/routines.math.html#mathematical-functions) in NumPy."
   ]
  },
  {
   "cell_type": "code",
   "execution_count": null,
   "id": "de27d8af",
   "metadata": {},
   "outputs": [],
   "source": [
    "N = np.arange(10)\n",
    "# Your code goes here\n",
    "\n",
    "\n"
   ]
  },
  {
   "cell_type": "markdown",
   "id": "5412ee3a",
   "metadata": {},
   "source": [
    "### Statistical operations\n",
    "\n",
    "NumPy offer powderful [statistical functions](https://numpy.org/doc/stable/reference/routines.statistics.html) for essential analysis on the array."
   ]
  },
  {
   "cell_type": "code",
   "execution_count": null,
   "id": "4fd97186",
   "metadata": {},
   "outputs": [],
   "source": [
    "# Sum all of the elements of the array\n",
    "np.sum(arr1)"
   ]
  },
  {
   "cell_type": "code",
   "execution_count": null,
   "id": "c6ffadb5",
   "metadata": {},
   "outputs": [],
   "source": [
    "# Compute the mean of the array\n",
    "np.mean(arr1)"
   ]
  },
  {
   "cell_type": "code",
   "execution_count": null,
   "id": "c750eded",
   "metadata": {},
   "outputs": [],
   "source": [
    "# Compute the standard deviation of the array\n",
    "np.std(arr1)"
   ]
  },
  {
   "cell_type": "code",
   "execution_count": null,
   "id": "c2aa9065",
   "metadata": {},
   "outputs": [],
   "source": [
    "# Return the maximal element in an array\n",
    "np.max(arr1)"
   ]
  },
  {
   "cell_type": "code",
   "execution_count": null,
   "id": "36708c9b",
   "metadata": {},
   "outputs": [],
   "source": [
    "# Sum of array elements over a given axis by setting the parameters in NumPy method\n",
    "np.sum(arr2,axis=0)"
   ]
  },
  {
   "cell_type": "markdown",
   "id": "590348b2",
   "metadata": {},
   "source": [
    "<div id=\"partone\"><h2><center>Part 2: Basics of Pandas</center></h2></div>\n",
    "\n",
    "NumPy handles mostly Numerical values. <a href=\"https://pandas.pydata.org/docs/user_guide/index.html\"><b>Pandas</b></a> is a newer library built on NumPy. It offers more flexibile data analytics and manipulation on numeric, alphabetic, and heterogeneous data types for data processing in machine learning and data science."
   ]
  },
  {
   "cell_type": "code",
   "execution_count": null,
   "id": "ab32defd",
   "metadata": {},
   "outputs": [],
   "source": [
    "# We need to import pandas as pd\n",
    "import pandas as pd"
   ]
  },
  {
   "cell_type": "markdown",
   "id": "6e4a8e93",
   "metadata": {},
   "source": [
    "## 2.1. Pandas DataFrame Object\n",
    "\n",
    "A <b><a href=\"https://pandas.pydata.org/pandas-docs/stable/reference/api/pandas.DataFrame.html\">DataFrame</a></b> in Pandas can be thought of as a 2D container to support easy data manipulation, similar to a spreadsheet or table. It can be created by method `pd.DataFrame()`, with optional arguments `index` (row labels) and `columns` (column labels) as follows."
   ]
  },
  {
   "cell_type": "code",
   "execution_count": null,
   "id": "c721fa69",
   "metadata": {},
   "outputs": [],
   "source": [
    "df = pd.DataFrame({'Name': ['Alice', 'Bob'], \n",
    "                   'Module': ['Chemistry', 'Math'], \n",
    "                   'Mark': [73, 68]},\n",
    "                  index=[1, 2])\n",
    "df"
   ]
  },
  {
   "cell_type": "markdown",
   "id": "e8b3869d",
   "metadata": {},
   "source": [
    "<b>Dataframe</b> has attributes `values`, `index` and `columns` to access to the data, index and column labels."
   ]
  },
  {
   "cell_type": "code",
   "execution_count": null,
   "id": "e7536672",
   "metadata": {},
   "outputs": [],
   "source": [
    "df.values"
   ]
  },
  {
   "cell_type": "code",
   "execution_count": null,
   "id": "b023acb6",
   "metadata": {},
   "outputs": [],
   "source": [
    "df.index"
   ]
  },
  {
   "cell_type": "code",
   "execution_count": null,
   "id": "fdbe3f85",
   "metadata": {},
   "outputs": [],
   "source": [
    "df.columns"
   ]
  },
  {
   "cell_type": "markdown",
   "id": "cd9946d8",
   "metadata": {},
   "source": [
    "## 2.2. Reading & viewing data in Pandas\n",
    "\n",
    "Pandas provides various functions to analyse and process the data for data analysis in machine learning and data science.\n",
    "\n",
    "### Reading data\n",
    "\n",
    "Pandas functions such as `read_csv()` or `read_excel()` import data files as a DataFrame `df`)."
   ]
  },
  {
   "cell_type": "code",
   "execution_count": null,
   "id": "6378393c",
   "metadata": {},
   "outputs": [],
   "source": [
    "dfemissions = pd.read_csv(\"https://raw.githubusercontent.com/plotly/datasets/master/Emissions%20Data.csv\")\n",
    "dfemissions"
   ]
  },
  {
   "cell_type": "markdown",
   "id": "4cfe5bcb",
   "metadata": {},
   "source": [
    "### Viewing data"
   ]
  },
  {
   "cell_type": "code",
   "execution_count": null,
   "id": "a8d91526",
   "metadata": {},
   "outputs": [],
   "source": [
    "# View the actual data inside the data structure DataFrame using attribute .values\n",
    "dfemissions.values"
   ]
  },
  {
   "cell_type": "code",
   "execution_count": null,
   "id": "438286f3",
   "metadata": {},
   "outputs": [],
   "source": [
    "# View by default the first five samples using method .head()\n",
    "dfemissions.head()"
   ]
  },
  {
   "cell_type": "code",
   "execution_count": null,
   "id": "6b997490",
   "metadata": {},
   "outputs": [],
   "source": [
    "# View the last three samples using method .tail()\n",
    "dfemissions.tail(3)"
   ]
  },
  {
   "cell_type": "code",
   "execution_count": null,
   "id": "9eef00d6",
   "metadata": {},
   "outputs": [],
   "source": [
    "# View the data type of the each column using attribute .dtypes\n",
    "dfemissions.dtypes"
   ]
  },
  {
   "cell_type": "code",
   "execution_count": null,
   "id": "61d7d1fd",
   "metadata": {},
   "outputs": [],
   "source": [
    "# Change the data type of the `Year` column to `float64` using method .astype()\n",
    "dfemissions.Year.astype('float64')"
   ]
  },
  {
   "cell_type": "code",
   "execution_count": null,
   "id": "29a5865c",
   "metadata": {},
   "outputs": [],
   "source": [
    "# Check how many dimensions of the data using attribute .shape\n",
    "dfemissions.shape"
   ]
  },
  {
   "cell_type": "markdown",
   "id": "0b9df8d7",
   "metadata": {},
   "source": [
    "<div class=\"alert alert-info\">\n",
    "    <h4>Task 2.2</h4>\n",
    "</div>\n",
    "\n",
    "To import different file types, find the suitable Pandas function from Pandas I/O functions in [IO tools description](https://pandas.pydata.org/pandas-docs/stable/user_guide/io.html) to read the excel file at path ```data/data-combinatorial-challenge.xlsx``` and name the data object ```dfC```. Then show the number of columns in the DataFrame `dfC`."
   ]
  },
  {
   "cell_type": "code",
   "execution_count": null,
   "id": "67f18f3b",
   "metadata": {},
   "outputs": [],
   "source": [
    "path_to_file = 'data/data-combinatorial-challenge.xlsx'\n",
    "\n",
    "# Your code goes here\n",
    "\n",
    "\n"
   ]
  },
  {
   "cell_type": "markdown",
   "id": "c8ccc4a1",
   "metadata": {},
   "source": [
    "### Descriptive statistics\n",
    "Pandas provides various [functions](https://pandas.pydata.org/docs/user_guide/basics.html#descriptive-statistics) to easily find statistical information of the data."
   ]
  },
  {
   "cell_type": "code",
   "execution_count": null,
   "id": "79044bcb",
   "metadata": {},
   "outputs": [],
   "source": [
    "# Calculate the mean of the data in the `Emission` column using method .mean()\n",
    "dfemissions['Emission'].mean()"
   ]
  },
  {
   "cell_type": "code",
   "execution_count": null,
   "id": "54363073",
   "metadata": {},
   "outputs": [],
   "source": [
    "# Calculate the standard deviation of the data in the `Emission` column\n",
    "dfemissions['Emission'].std()"
   ]
  },
  {
   "cell_type": "code",
   "execution_count": null,
   "id": "6992aef9",
   "metadata": {},
   "outputs": [],
   "source": [
    "# Calculate the sum of the data in the `Emission` column\n",
    "dfemissions['Emission'].sum()"
   ]
  },
  {
   "cell_type": "code",
   "execution_count": null,
   "id": "9333a5db",
   "metadata": {},
   "outputs": [],
   "source": [
    "# Generates a high-level summary of the attributes of the DataFrame (numerical columns only)\n",
    "dfemissions.describe()"
   ]
  },
  {
   "cell_type": "markdown",
   "id": "efa92ecc",
   "metadata": {},
   "source": [
    "## 2.3. Indexing and selection in Pandas\n",
    "\n",
    "### Data indexing\n",
    "\n",
    "We can access data in DataFrame by either `dataframe[colname]` or an attribute ```dataframe.colname```."
   ]
  },
  {
   "cell_type": "code",
   "execution_count": null,
   "id": "8bbdfdcc",
   "metadata": {},
   "outputs": [],
   "source": [
    "# access a slice by `dataFrame[colname]`\n",
    "dfemissions['Continent']"
   ]
  },
  {
   "cell_type": "code",
   "execution_count": null,
   "id": "449e220c",
   "metadata": {},
   "outputs": [],
   "source": [
    "# access a slice by an attribute `dataFrame.colname`\n",
    "dfemissions.Continent"
   ]
  },
  {
   "cell_type": "markdown",
   "id": "7f694087",
   "metadata": {},
   "source": [
    "We can select data by two indexing operators, i.e., ```iloc``` (index-based using index) and ```loc``` (label-based using column labels)."
   ]
  },
  {
   "cell_type": "code",
   "execution_count": null,
   "id": "2934f8d1",
   "metadata": {},
   "outputs": [],
   "source": [
    "# index-based selection: access row 1 in dataFrame\n",
    "dfemissions.iloc[1] "
   ]
  },
  {
   "cell_type": "code",
   "execution_count": null,
   "id": "d206987a",
   "metadata": {
    "scrolled": true
   },
   "outputs": [],
   "source": [
    "# access column 2 in dataFrame\n",
    "dfemissions.iloc[:,2]"
   ]
  },
  {
   "cell_type": "code",
   "execution_count": null,
   "id": "4d794396",
   "metadata": {},
   "outputs": [],
   "source": [
    "# label-based selection: show each row of the columns 'Country' and 'Emission'\n",
    "dfemissions.loc[:,['Country','Emission']]"
   ]
  },
  {
   "cell_type": "markdown",
   "id": "8dae7fa7",
   "metadata": {},
   "source": [
    "<div class=\"alert alert-info\">\n",
    "    <h4>Task 2.3</h4>\n",
    "</div>\n",
    "\n",
    "Is there an error in the below code cell? If so how to fix it?"
   ]
  },
  {
   "cell_type": "code",
   "execution_count": null,
   "id": "8ee84854",
   "metadata": {},
   "outputs": [],
   "source": [
    "dfemissions.iloc[:5,['Country']]"
   ]
  },
  {
   "cell_type": "markdown",
   "id": "ca1e2737",
   "metadata": {},
   "source": [
    "### Data slicing"
   ]
  },
  {
   "cell_type": "code",
   "execution_count": null,
   "id": "88d2f62a",
   "metadata": {
    "scrolled": true
   },
   "outputs": [],
   "source": [
    "# Select the 5th-10th rows of the data\n",
    "dfemissions[5:10]"
   ]
  },
  {
   "cell_type": "code",
   "execution_count": null,
   "id": "3a33684a",
   "metadata": {},
   "outputs": [],
   "source": [
    "# Show the samples where the Continent is in 'countries', using label-based selection\n",
    "\n",
    "countries = [\"Oceania\",\"Europe\"] # list of selected continents\n",
    "\n",
    "# dfemissions.loc[x]: select rows in dfemissions with values in x\n",
    "# dfemissions.Continent.isin(countries): find rows with Continent values in countries\n",
    "dfemissions.loc[dfemissions.Continent.isin(countries)]"
   ]
  },
  {
   "cell_type": "code",
   "execution_count": null,
   "id": "3792abd0",
   "metadata": {},
   "outputs": [],
   "source": [
    "# Access the built-in documentation of functions using `?`\n",
    "dfemissions.Continent.isin?"
   ]
  },
  {
   "cell_type": "markdown",
   "id": "55659903",
   "metadata": {},
   "source": [
    "<div class=\"alert alert-info\">\n",
    "    <h4>Task 2.4</h4>\n",
    "</div>\n",
    "\n",
    "Show the first ten samples in `dfemissions` where `Emission` is higher than the mean emission value.<br>\n",
    "<b>Hint</b>: break the task into subtasks. For example, calculate the mean value first, then do the conditional data slicing. "
   ]
  },
  {
   "cell_type": "code",
   "execution_count": null,
   "id": "26c8e49d",
   "metadata": {},
   "outputs": [],
   "source": [
    "# Your code goes here.\n",
    "\n",
    "\n",
    "\n"
   ]
  },
  {
   "cell_type": "markdown",
   "id": "7be66a7b",
   "metadata": {},
   "source": [
    "## 2.4. Grouping, sorting and mapping\n",
    "\n",
    "We often need to group things together by certain characteristics, to analyse selected data important to us."
   ]
  },
  {
   "cell_type": "markdown",
   "id": "022c8961",
   "metadata": {},
   "source": [
    "### Grouping\n",
    "\n",
    "The [```groupby()```](https://pandas.pydata.org/docs/reference/api/pandas.DataFrame.groupby.html) method returns a `groupby` object that contains information of grouped data. Each group is a slice of the DataFrame containing only data with values that match."
   ]
  },
  {
   "cell_type": "code",
   "execution_count": null,
   "id": "cd757084",
   "metadata": {},
   "outputs": [],
   "source": [
    "# Count the number of countries in each continent, i.e. data is grouped by continent\n",
    "dfemissions.groupby('Continent')['Continent'].count()"
   ]
  },
  {
   "cell_type": "code",
   "execution_count": null,
   "id": "79a7d8e6",
   "metadata": {},
   "outputs": [],
   "source": [
    "# Calculate the mean emission in each continent, i.e. data grouped by continent, then fetch the 'Emission' column\n",
    "dfemissions.groupby('Continent')['Emission'].mean()"
   ]
  },
  {
   "cell_type": "markdown",
   "id": "60cf18c0",
   "metadata": {},
   "source": [
    "### Sorting\n",
    "\n",
    "The [```sort_values()```](https://pandas.pydata.org/docs/reference/api/pandas.DataFrame.sort_values.html) method sorts values of either axis specified by `by`. The attribute `ascending` is `True` by default."
   ]
  },
  {
   "cell_type": "code",
   "execution_count": null,
   "id": "93949c9c",
   "metadata": {},
   "outputs": [],
   "source": [
    "# To sort ascending by the citric acid.\n",
    "dfemissions = dfemissions.sort_values(by='Emission', ascending=False)\n",
    "dfemissions.head()"
   ]
  },
  {
   "cell_type": "markdown",
   "id": "41801663",
   "metadata": {},
   "source": [
    "<div class=\"alert alert-info\">\n",
    "    <h4>Task 2.5</h4>\n",
    "</div>\n",
    "\n",
    "Sort the data `dfemissions` descendingly by `Continent` and then `Country`."
   ]
  },
  {
   "cell_type": "code",
   "execution_count": null,
   "id": "8a72f9bb",
   "metadata": {},
   "outputs": [],
   "source": [
    "# Your code goes here.\n",
    "\n",
    "\n"
   ]
  },
  {
   "cell_type": "markdown",
   "id": "f6dbb48b",
   "metadata": {},
   "source": [
    "<div class=\"alert alert-warning\">\n",
    "    <h4>Optional</h4>\n",
    "</div>\n",
    "\n",
    "To extend your knowledge and skills in NumPy and Pandas, here are some additional resources:\n",
    "- NumPy\n",
    "    - [Standard data types in NumPy](https://numpy.org/doc/stable/user/basics.types.html)\n",
    "    - [NumPy quickstart](https://numpy.org/doc/stable/user/quickstart.html#numpy-quickstart)\n",
    "    - [Introduction to NumPy](https://jakevdp.github.io/PythonDataScienceHandbook/02.00-introduction-to-numpy.html) in [Python Data Science Handbook](https://jakevdp.github.io/PythonDataScienceHandbook/)\n",
    "- Pandas\n",
    "    - [Learn Pandas Tutorial](https://www.kaggle.com/learn/pandas) in Kaggle (<i>highly recommend</i>)\n",
    "    - YouTube: <a href=\"https://www.youtube.com/watch?v=dcqPhpY7tWk\">What's Pandas?</a>\n",
    "    - <a href=\"https://www.youtube.com/watch?v=iGFdh6_FePU\">Pandas in 10 minutes</a>\n",
    "    - [Data Manipulation with Pandas](https://jakevdp.github.io/PythonDataScienceHandbook/03.00-introduction-to-pandas.html) in [Python Data Science Handbook](https://jakevdp.github.io/PythonDataScienceHandbook/)\n",
    "    \n",
    "<div class=\"alert alert-success\">\n",
    "    <h2>🍰 End</h2> \n",
    "</div>"
   ]
  }
 ],
 "metadata": {
  "kernelspec": {
   "display_name": "Python 3 (ipykernel)",
   "language": "python",
   "name": "python3"
  },
  "language_info": {
   "codemirror_mode": {
    "name": "ipython",
    "version": 3
   },
   "file_extension": ".py",
   "mimetype": "text/x-python",
   "name": "python",
   "nbconvert_exporter": "python",
   "pygments_lexer": "ipython3",
   "version": "3.9.12"
  },
  "toc": {
   "base_numbering": 1,
   "nav_menu": {},
   "number_sections": true,
   "sideBar": true,
   "skip_h1_title": false,
   "title_cell": "Table of Contents",
   "title_sidebar": "Contents",
   "toc_cell": false,
   "toc_position": {
    "height": "calc(100% - 180px)",
    "left": "10px",
    "top": "150px",
    "width": "303.865px"
   },
   "toc_section_display": true,
   "toc_window_display": true
  }
 },
 "nbformat": 4,
 "nbformat_minor": 5
}
