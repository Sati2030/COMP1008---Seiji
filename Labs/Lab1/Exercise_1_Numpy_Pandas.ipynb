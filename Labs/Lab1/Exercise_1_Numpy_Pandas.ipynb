{
 "cells": [
  {
   "cell_type": "markdown",
   "id": "0851c858",
   "metadata": {},
   "source": [
    "<h1><center>COMP1008: Exercise 1<br/>Introduction to NumPy and Pandas</center></h1>"
   ]
  },
  {
   "cell_type": "markdown",
   "id": "bf3d8c5c",
   "metadata": {},
   "source": [
    "NumPy and Pandas are two extremely useful Python libraries for COMP1008 exercises and coursework. They provide powerful and flexible mathematical and data analysis methods for machine learning and data science.\n",
    "\n",
    "This tutorial provides some examples on basic data manipulation using NumPy and Pandas. Some hand-on tasks are designed for you to practice your data manipulation skills."
   ]
  },
  {
   "cell_type": "markdown",
   "id": "0304eb75",
   "metadata": {},
   "source": [
    "<div id=\"partone\"><h2><center>Part 1: NumPy Basics</center></h2></div>\n",
    "\n",
    "The [NumPy](https://numpy.org/doc/stable/user/absolute_beginners.html) library in Python provides a powerful array object `ndarray` to handle well-organized data in numerical tasks. NumPy should be already installed with Anaconda. We simply import it and call it `np`. "
   ]
  },
  {
   "cell_type": "code",
   "execution_count": 1,
   "id": "643dfb47",
   "metadata": {},
   "outputs": [],
   "source": [
    "import numpy as np"
   ]
  },
  {
   "cell_type": "markdown",
   "id": "42e964a5",
   "metadata": {},
   "source": [
    "## 1.1. Introduction to NumPy arrays\n",
    "\n",
    "`ndarray` is a homogeneous n-dimensional array object, with <b>methods</b> and <b>attributes</b> to efficiently operate on data. It can hold a collection of items of any one data type, either in a vector (1D one-dimensional) or a matrix (multi-dimensional).\n",
    "\n",
    "### Creating NumPy arrays"
   ]
  },
  {
   "cell_type": "markdown",
   "id": "ddc93681",
   "metadata": {},
   "source": [
    "Method `np.array()` can easily create NumPy arrays."
   ]
  },
  {
   "cell_type": "code",
   "execution_count": 2,
   "id": "b3616bd4",
   "metadata": {},
   "outputs": [
    {
     "data": {
      "text/plain": [
       "array([1, 2, 3, 4, 5, 6, 7, 8])"
      ]
     },
     "execution_count": 2,
     "metadata": {},
     "output_type": "execute_result"
    }
   ],
   "source": [
    "arr1 = np.array([1, 2, 3, 4, 5, 6, 7, 8]) # 1D array\n",
    "arr1"
   ]
  },
  {
   "cell_type": "code",
   "execution_count": 3,
   "id": "5db0ace9",
   "metadata": {},
   "outputs": [
    {
     "data": {
      "text/plain": [
       "array([[ 1,  2,  3,  4],\n",
       "       [ 5,  6,  7,  8],\n",
       "       [ 9, 10, 11, 12]])"
      ]
     },
     "execution_count": 3,
     "metadata": {},
     "output_type": "execute_result"
    }
   ],
   "source": [
    "arr2 = np.array([[1, 2, 3, 4], [5, 6, 7, 8], [9, 10, 11, 12]])\n",
    "arr2 # a 3X4 matrix"
   ]
  },
  {
   "cell_type": "markdown",
   "id": "37c8d6dd",
   "metadata": {},
   "source": [
    "Attributes such as `shape`, `size`, `dtype` can provide useful information of the arrays."
   ]
  },
  {
   "cell_type": "code",
   "execution_count": 4,
   "id": "2661bf65",
   "metadata": {},
   "outputs": [
    {
     "data": {
      "text/plain": [
       "(3, 4)"
      ]
     },
     "execution_count": 4,
     "metadata": {},
     "output_type": "execute_result"
    }
   ],
   "source": [
    "# the dimensions of the array.\n",
    "arr2.shape"
   ]
  },
  {
   "cell_type": "code",
   "execution_count": 5,
   "id": "af362b36",
   "metadata": {
    "scrolled": true
   },
   "outputs": [
    {
     "data": {
      "text/plain": [
       "dtype('int64')"
      ]
     },
     "execution_count": 5,
     "metadata": {},
     "output_type": "execute_result"
    }
   ],
   "source": [
    "# the type of the elements in the array.\n",
    "arr2.dtype"
   ]
  },
  {
   "cell_type": "markdown",
   "id": "491b10d5",
   "metadata": {},
   "source": [
    "We can explicitly set the data type of a `ndarray` with the `dtype` parameter in the `array` method, and convert its type using the `astype` method."
   ]
  },
  {
   "cell_type": "code",
   "execution_count": 6,
   "id": "6f79c746",
   "metadata": {},
   "outputs": [
    {
     "data": {
      "text/plain": [
       "dtype('float32')"
      ]
     },
     "execution_count": 6,
     "metadata": {},
     "output_type": "execute_result"
    }
   ],
   "source": [
    "# Construct an array with data of type float32\n",
    "arr3 = np.array([1, 4, 2, 5, 3], dtype='float32')\n",
    "\n",
    "# Check the type of the elements in the array.\n",
    "arr3.dtype"
   ]
  },
  {
   "cell_type": "code",
   "execution_count": 7,
   "id": "df5846c1",
   "metadata": {},
   "outputs": [
    {
     "data": {
      "text/plain": [
       "dtype('int8')"
      ]
     },
     "execution_count": 7,
     "metadata": {},
     "output_type": "execute_result"
    }
   ],
   "source": [
    "# Convert an array from type float32 to int8\n",
    "arr3 = arr3.astype(dtype=np.int8)\n",
    "arr3.dtype"
   ]
  },
  {
   "cell_type": "markdown",
   "id": "20e28409",
   "metadata": {},
   "source": [
    "Other methods to easily construct NumPy arrays."
   ]
  },
  {
   "cell_type": "code",
   "execution_count": 8,
   "id": "1751ae66",
   "metadata": {},
   "outputs": [
    {
     "data": {
      "text/plain": [
       "array([0., 0., 0., 0., 0., 0., 0., 0., 0., 0.])"
      ]
     },
     "execution_count": 8,
     "metadata": {},
     "output_type": "execute_result"
    }
   ],
   "source": [
    "# Create a 1D length-10 integer array filled with zeros\n",
    "np.zeros(10)"
   ]
  },
  {
   "cell_type": "code",
   "execution_count": 9,
   "id": "088baa6d",
   "metadata": {},
   "outputs": [
    {
     "data": {
      "text/plain": [
       "array([[1., 1., 1., 1., 1.],\n",
       "       [1., 1., 1., 1., 1.],\n",
       "       [1., 1., 1., 1., 1.]])"
      ]
     },
     "execution_count": 9,
     "metadata": {},
     "output_type": "execute_result"
    }
   ],
   "source": [
    "# Create a 3x5 floating-point array filled with ones\n",
    "np.ones((3, 5), dtype=float)"
   ]
  },
  {
   "cell_type": "code",
   "execution_count": 10,
   "id": "8c8c39ea",
   "metadata": {},
   "outputs": [
    {
     "data": {
      "text/plain": [
       "array([ 0,  2,  4,  6,  8, 10, 12, 14, 16, 18])"
      ]
     },
     "execution_count": 10,
     "metadata": {},
     "output_type": "execute_result"
    }
   ],
   "source": [
    "# Create a linear sequence starting at 0 ending at 20, with a step of 2\n",
    "np.arange(0, 20, 2)"
   ]
  },
  {
   "cell_type": "code",
   "execution_count": 11,
   "id": "a247a948",
   "metadata": {},
   "outputs": [
    {
     "data": {
      "text/plain": [
       "array([0.  , 0.25, 0.5 , 0.75, 1.  ])"
      ]
     },
     "execution_count": 11,
     "metadata": {},
     "output_type": "execute_result"
    }
   ],
   "source": [
    "# Create an array of five values evenly spaced between 0 and 1\n",
    "np.linspace(0, 1, 5)"
   ]
  },
  {
   "cell_type": "code",
   "execution_count": 12,
   "id": "c2ef50f7",
   "metadata": {},
   "outputs": [
    {
     "data": {
      "text/plain": [
       "array([[0.95099559, 0.61571384, 0.20770845],\n",
       "       [0.87360432, 0.03665051, 0.28125323],\n",
       "       [0.17963512, 0.13639668, 0.69938507]])"
      ]
     },
     "execution_count": 12,
     "metadata": {},
     "output_type": "execute_result"
    }
   ],
   "source": [
    "# Create a 3x3 array of uniformly distributed random values in [0.0, 1.0)\n",
    "np.random.random((3, 3))"
   ]
  },
  {
   "cell_type": "code",
   "execution_count": 14,
   "id": "c05b9f4a",
   "metadata": {},
   "outputs": [
    {
     "data": {
      "text/plain": [
       "array([[4, 4, 6],\n",
       "       [4, 0, 0],\n",
       "       [3, 9, 8],\n",
       "       [9, 8, 7],\n",
       "       [2, 3, 0]])"
      ]
     },
     "execution_count": 14,
     "metadata": {},
     "output_type": "execute_result"
    }
   ],
   "source": [
    "# Create a 5x3 array of random integers in [0, 10)\n",
    "np.random.randint(0, 10, (5, 3))"
   ]
  },
  {
   "cell_type": "markdown",
   "id": "45789846",
   "metadata": {},
   "source": [
    "<b>Note</b>: You can use the `?` character to access the built-in documentation of functions. Refer to [Help and Documentation in IPython](https://jakevdp.github.io/PythonDataScienceHandbook/01.01-help-and-documentation.html) for more information."
   ]
  },
  {
   "cell_type": "code",
   "execution_count": 15,
   "id": "409c7102",
   "metadata": {},
   "outputs": [],
   "source": [
    "xnp?"
   ]
  },
  {
   "cell_type": "code",
   "execution_count": 16,
   "id": "6a96a646",
   "metadata": {},
   "outputs": [],
   "source": [
    "np.zeros?"
   ]
  },
  {
   "cell_type": "markdown",
   "id": "c80dc39f",
   "metadata": {},
   "source": [
    "<div class=\"alert alert-info\">\n",
    "    <h4>Task 1.1</h4>\n",
    "</div>\n",
    "\n",
    "Create a 1D array of numbers from 0 to 9 and name it `arr1`. Display the resulting array."
   ]
  },
  {
   "cell_type": "code",
   "execution_count": 19,
   "id": "86dd0b15",
   "metadata": {},
   "outputs": [
    {
     "name": "stdout",
     "output_type": "stream",
     "text": [
      "Object `np.arrange` not found.\n"
     ]
    }
   ],
   "source": [
    "np.arrange?"
   ]
  },
  {
   "cell_type": "code",
   "execution_count": 46,
   "id": "9bc3906d",
   "metadata": {},
   "outputs": [
    {
     "data": {
      "text/plain": [
       "array([0, 1, 2, 3, 4, 5, 6, 7, 8, 9])"
      ]
     },
     "execution_count": 46,
     "metadata": {},
     "output_type": "execute_result"
    }
   ],
   "source": [
    "# Your code goes here\n",
    "arr1 = np.arange(0,10,1)\n",
    "arr1"
   ]
  },
  {
   "cell_type": "markdown",
   "id": "d4f4912d",
   "metadata": {},
   "source": [
    "## 1.2. Indexing and Data Slicing in NumPy\n",
    "NumPy arrays offer fast element access for efficient data manipulation.\n",
    "\n",
    "### Indexing\n",
    "The (<i>i,j</i>)-th value (from index zero) can be accessed by specifying its index in `[,]`."
   ]
  },
  {
   "cell_type": "code",
   "execution_count": 22,
   "id": "57d0e03c",
   "metadata": {},
   "outputs": [
    {
     "data": {
      "text/plain": [
       "array([[4, 1, 9],\n",
       "       [4, 1, 5],\n",
       "       [0, 8, 3],\n",
       "       [7, 4, 4]])"
      ]
     },
     "execution_count": 22,
     "metadata": {},
     "output_type": "execute_result"
    }
   ],
   "source": [
    "# Create a 5x3 array of random integers in the interval [0, 10)\n",
    "arr4 = np.random.randint(0, 10, (4, 3))\n",
    "arr4"
   ]
  },
  {
   "cell_type": "code",
   "execution_count": 32,
   "id": "773d8ea0",
   "metadata": {},
   "outputs": [
    {
     "data": {
      "text/plain": [
       "4"
      ]
     },
     "execution_count": 32,
     "metadata": {},
     "output_type": "execute_result"
    }
   ],
   "source": [
    "arr4[0,0]"
   ]
  },
  {
   "cell_type": "code",
   "execution_count": 35,
   "id": "3b8484d9",
   "metadata": {},
   "outputs": [
    {
     "data": {
      "text/plain": [
       "4"
      ]
     },
     "execution_count": 35,
     "metadata": {},
     "output_type": "execute_result"
    }
   ],
   "source": [
    "# Indexing from the end of the array\n",
    "arr4[3,-2]"
   ]
  },
  {
   "cell_type": "markdown",
   "id": "a5880ac0",
   "metadata": {},
   "source": [
    "Using the above indexing notation, we can modify the values of the NumPy array."
   ]
  },
  {
   "cell_type": "code",
   "execution_count": 36,
   "id": "c14803db",
   "metadata": {},
   "outputs": [
    {
     "data": {
      "text/plain": [
       "array([[0, 1, 9],\n",
       "       [4, 1, 5],\n",
       "       [0, 8, 3],\n",
       "       [7, 4, 4]])"
      ]
     },
     "execution_count": 36,
     "metadata": {},
     "output_type": "execute_result"
    }
   ],
   "source": [
    "# Modify the value of the arrary\n",
    "arr4[0,0] = 0\n",
    "arr4"
   ]
  },
  {
   "cell_type": "markdown",
   "id": "d7fb15ec",
   "metadata": {},
   "source": [
    "### Data slicing\n",
    "\n",
    "`arr[start:stop:step]` selects a sub-array in NumPy. Short syntax `arr[:stop]` and `arr[start:]` use the default starting and ending index."
   ]
  },
  {
   "cell_type": "code",
   "execution_count": 53,
   "id": "0b5b6066",
   "metadata": {
    "scrolled": true
   },
   "outputs": [
    {
     "data": {
      "text/plain": [
       "array([0, 1, 2, 3, 4])"
      ]
     },
     "execution_count": 53,
     "metadata": {},
     "output_type": "execute_result"
    }
   ],
   "source": [
    "# starting from index 0 till the 5th location\n",
    "arr1[:5]"
   ]
  },
  {
   "cell_type": "code",
   "execution_count": 54,
   "id": "a6bb99f7",
   "metadata": {},
   "outputs": [
    {
     "data": {
      "text/plain": [
       "array([1, 2, 3, 4, 5, 6, 7, 8, 9])"
      ]
     },
     "execution_count": 54,
     "metadata": {},
     "output_type": "execute_result"
    }
   ],
   "source": [
    "# from index 1 till the end\n",
    "arr1[1:]"
   ]
  },
  {
   "cell_type": "code",
   "execution_count": 55,
   "id": "472a3f3e",
   "metadata": {},
   "outputs": [
    {
     "data": {
      "text/plain": [
       "array([[ 1,  2],\n",
       "       [ 5,  6],\n",
       "       [ 9, 10]])"
      ]
     },
     "execution_count": 55,
     "metadata": {},
     "output_type": "execute_result"
    }
   ],
   "source": [
    "# similar syntax for 2D array: every row, the first two columns\n",
    "arr2[:,:2]"
   ]
  },
  {
   "cell_type": "code",
   "execution_count": 56,
   "id": "ad59f196",
   "metadata": {},
   "outputs": [
    {
     "data": {
      "text/plain": [
       "array([[ 1,  2,  3,  4],\n",
       "       [ 9, 10, 11, 12]])"
      ]
     },
     "execution_count": 56,
     "metadata": {},
     "output_type": "execute_result"
    }
   ],
   "source": [
    "# every other row, all columns\n",
    "arr2[::2, :]"
   ]
  },
  {
   "cell_type": "code",
   "execution_count": 57,
   "id": "699a40c8",
   "metadata": {},
   "outputs": [
    {
     "data": {
      "text/plain": [
       "array([3, 4, 5, 6, 7])"
      ]
     },
     "execution_count": 57,
     "metadata": {},
     "output_type": "execute_result"
    }
   ],
   "source": [
    "# use condiction to select values in the array that are in (2,8)\n",
    "arr1[(arr1>2)&(arr1<8)]"
   ]
  },
  {
   "cell_type": "code",
   "execution_count": 58,
   "id": "4f8a6092",
   "metadata": {},
   "outputs": [
    {
     "data": {
      "text/plain": [
       "array([0, 1, 2, 3, 2, 2, 2, 2, 2, 2])"
      ]
     },
     "execution_count": 58,
     "metadata": {},
     "output_type": "execute_result"
    }
   ],
   "source": [
    "# Replace those values > 3 by 2\n",
    "arr1[arr1>3] = 2\n",
    "arr1"
   ]
  },
  {
   "cell_type": "markdown",
   "id": "b43bee6a",
   "metadata": {},
   "source": [
    "<div class=\"alert alert-info\">\n",
    "    <h4>Task 1.2</h4>\n",
    "</div>\n",
    "\n",
    "Extract all odd numbers from `arr1`. <b>Hint</b>: think about the condition to use for data slicing."
   ]
  },
  {
   "cell_type": "code",
   "execution_count": 59,
   "id": "0f4da3e6",
   "metadata": {},
   "outputs": [
    {
     "data": {
      "text/plain": [
       "array([1, 3])"
      ]
     },
     "execution_count": 59,
     "metadata": {},
     "output_type": "execute_result"
    }
   ],
   "source": [
    "# Your code goes here\n",
    "arr1[(arr1%2) == 1]\n"
   ]
  },
  {
   "cell_type": "markdown",
   "id": "84dd22b5",
   "metadata": {},
   "source": [
    "## 1.3. Computation in NumPy\n",
    "\n",
    "### Mathematical operations\n",
    "\n",
    "NumPy provides a wide variety of straightforward mathematical operations on arrays."
   ]
  },
  {
   "cell_type": "code",
   "execution_count": 62,
   "id": "bd2e1976",
   "metadata": {
    "scrolled": false
   },
   "outputs": [
    {
     "name": "stdout",
     "output_type": "stream",
     "text": [
      "arr1:\n",
      " [0 1 2 3 2 2 2 2 2 2]\n",
      "arr5:\n",
      " [0.         0.11111111 0.22222222 0.33333333 0.44444444 0.55555556\n",
      " 0.66666667 0.77777778 0.88888889 1.        ]\n"
     ]
    }
   ],
   "source": [
    "arr5 = np.linspace(0, 1, 10)\n",
    "print('arr1:\\n',arr1)\n",
    "print('arr5:\\n',arr5)"
   ]
  },
  {
   "cell_type": "code",
   "execution_count": 63,
   "id": "f4b02c52",
   "metadata": {},
   "outputs": [
    {
     "data": {
      "text/plain": [
       "array([0.        , 1.11111111, 2.22222222, 3.33333333, 2.44444444,\n",
       "       2.55555556, 2.66666667, 2.77777778, 2.88888889, 3.        ])"
      ]
     },
     "execution_count": 63,
     "metadata": {},
     "output_type": "execute_result"
    }
   ],
   "source": [
    "# Add items elementwise by using operator +.\n",
    "arr1+arr5"
   ]
  },
  {
   "cell_type": "code",
   "execution_count": 64,
   "id": "ab897a2f",
   "metadata": {},
   "outputs": [
    {
     "data": {
      "text/plain": [
       "array([ 0.        ,  1.11111111,  2.22222222,  3.33333333,  4.44444444,\n",
       "        5.55555556,  6.66666667,  7.77777778,  8.88888889, 10.        ])"
      ]
     },
     "execution_count": 64,
     "metadata": {},
     "output_type": "execute_result"
    }
   ],
   "source": [
    "# Multiply items elementwise by using method multiply.\n",
    "np.multiply(arr5,10)"
   ]
  },
  {
   "cell_type": "code",
   "execution_count": 65,
   "id": "1a2846b0",
   "metadata": {},
   "outputs": [
    {
     "data": {
      "text/plain": [
       "array([0.        , 1.        , 1.41421356, 1.73205081, 1.41421356,\n",
       "       1.41421356, 1.41421356, 1.41421356, 1.41421356, 1.41421356])"
      ]
     },
     "execution_count": 65,
     "metadata": {},
     "output_type": "execute_result"
    }
   ],
   "source": [
    "# Return square-root of an array, elementwise, using method sqrt.\n",
    "np.sqrt(arr1)"
   ]
  },
  {
   "cell_type": "code",
   "execution_count": 66,
   "id": "8f141871",
   "metadata": {},
   "outputs": [
    {
     "data": {
      "text/plain": [
       "array([ 0,  1,  8, 27,  8,  8,  8,  8,  8,  8])"
      ]
     },
     "execution_count": 66,
     "metadata": {},
     "output_type": "execute_result"
    }
   ],
   "source": [
    "# Array elements raised to powers elementwise.\n",
    "np.power(arr1,3)"
   ]
  },
  {
   "cell_type": "markdown",
   "id": "0a72667f",
   "metadata": {},
   "source": [
    "<div class=\"alert alert-info\">\n",
    "    <h4>Task 1.3</h4>\n",
    "</div> \n",
    "\n",
    "Given the array `N`, calculate and print: $2*N$, $N^2$, $N^8$, and $2^N$.<br>\n",
    "<b>Hint</b>: find the suitable [mathematical operations](https://numpy.org/doc/stable/reference/routines.math.html#mathematical-functions) in NumPy."
   ]
  },
  {
   "cell_type": "code",
   "execution_count": 70,
   "id": "de27d8af",
   "metadata": {},
   "outputs": [
    {
     "name": "stdout",
     "output_type": "stream",
     "text": [
      "original [0 1 2 3 4 5 6 7 8 9]\n",
      "[ 0  2  4  6  8 10 12 14 16 18]\n",
      "[ 0  1  4  9 16 25 36 49 64 81]\n",
      "[       0        1      256     6561    65536   390625  1679616  5764801\n",
      " 16777216 43046721]\n",
      "[  1   2   4   8  16  32  64 128 256 512]\n"
     ]
    }
   ],
   "source": [
    "N = np.arange(10)\n",
    "# Your code goes here\n",
    "print(\"original\",N)\n",
    "print(np.multiply(N,2))\n",
    "print(np.power(N,2))\n",
    "print(np.power(N,8))\n",
    "print(np.power(2,N))\n"
   ]
  },
  {
   "cell_type": "markdown",
   "id": "5412ee3a",
   "metadata": {},
   "source": [
    "### Statistical operations\n",
    "\n",
    "NumPy offer powderful [statistical functions](https://numpy.org/doc/stable/reference/routines.statistics.html) for essential analysis on the array."
   ]
  },
  {
   "cell_type": "code",
   "execution_count": 71,
   "id": "4fd97186",
   "metadata": {},
   "outputs": [
    {
     "data": {
      "text/plain": [
       "18"
      ]
     },
     "execution_count": 71,
     "metadata": {},
     "output_type": "execute_result"
    }
   ],
   "source": [
    "# Sum all of the elements of the array\n",
    "np.sum(arr1)"
   ]
  },
  {
   "cell_type": "code",
   "execution_count": 72,
   "id": "c6ffadb5",
   "metadata": {},
   "outputs": [
    {
     "data": {
      "text/plain": [
       "1.8"
      ]
     },
     "execution_count": 72,
     "metadata": {},
     "output_type": "execute_result"
    }
   ],
   "source": [
    "# Compute the mean of the array\n",
    "np.mean(arr1)"
   ]
  },
  {
   "cell_type": "code",
   "execution_count": 73,
   "id": "c750eded",
   "metadata": {},
   "outputs": [
    {
     "data": {
      "text/plain": [
       "0.7483314773547883"
      ]
     },
     "execution_count": 73,
     "metadata": {},
     "output_type": "execute_result"
    }
   ],
   "source": [
    "# Compute the standard deviation of the array\n",
    "np.std(arr1)"
   ]
  },
  {
   "cell_type": "code",
   "execution_count": 74,
   "id": "c2aa9065",
   "metadata": {},
   "outputs": [
    {
     "data": {
      "text/plain": [
       "3"
      ]
     },
     "execution_count": 74,
     "metadata": {},
     "output_type": "execute_result"
    }
   ],
   "source": [
    "# Return the maximal element in an array\n",
    "np.max(arr1)"
   ]
  },
  {
   "cell_type": "code",
   "execution_count": 76,
   "id": "014892f2",
   "metadata": {},
   "outputs": [
    {
     "data": {
      "text/plain": [
       "array([[ 1,  2,  3,  4],\n",
       "       [ 5,  6,  7,  8],\n",
       "       [ 9, 10, 11, 12]])"
      ]
     },
     "execution_count": 76,
     "metadata": {},
     "output_type": "execute_result"
    }
   ],
   "source": [
    "arr2"
   ]
  },
  {
   "cell_type": "code",
   "execution_count": 75,
   "id": "36708c9b",
   "metadata": {},
   "outputs": [
    {
     "data": {
      "text/plain": [
       "array([15, 18, 21, 24])"
      ]
     },
     "execution_count": 75,
     "metadata": {},
     "output_type": "execute_result"
    }
   ],
   "source": [
    "# Sum of array elements over a given axis by setting the parameters in NumPy method\n",
    "np.sum(arr2,axis=0)"
   ]
  },
  {
   "cell_type": "markdown",
   "id": "590348b2",
   "metadata": {},
   "source": [
    "<div id=\"partone\"><h2><center>Part 2: Basics of Pandas</center></h2></div>\n",
    "\n",
    "NumPy handles mostly Numerical values. <a href=\"https://pandas.pydata.org/docs/user_guide/index.html\"><b>Pandas</b></a> is a newer library built on NumPy. It offers more flexibile data analytics and manipulation on numeric, alphabetic, and heterogeneous data types for data processing in machine learning and data science."
   ]
  },
  {
   "cell_type": "code",
   "execution_count": 77,
   "id": "ab32defd",
   "metadata": {},
   "outputs": [],
   "source": [
    "# We need to import pandas as pd\n",
    "import pandas as pd"
   ]
  },
  {
   "cell_type": "markdown",
   "id": "6e4a8e93",
   "metadata": {},
   "source": [
    "## 2.1. Pandas DataFrame Object\n",
    "\n",
    "A <b><a href=\"https://pandas.pydata.org/pandas-docs/stable/reference/api/pandas.DataFrame.html\">DataFrame</a></b> in Pandas can be thought of as a 2D container to support easy data manipulation, similar to a spreadsheet or table. It can be created by method `pd.DataFrame()`, with optional arguments `index` (row labels) and `columns` (column labels) as follows."
   ]
  },
  {
   "cell_type": "code",
   "execution_count": 78,
   "id": "c721fa69",
   "metadata": {},
   "outputs": [
    {
     "data": {
      "text/html": [
       "<div>\n",
       "<style scoped>\n",
       "    .dataframe tbody tr th:only-of-type {\n",
       "        vertical-align: middle;\n",
       "    }\n",
       "\n",
       "    .dataframe tbody tr th {\n",
       "        vertical-align: top;\n",
       "    }\n",
       "\n",
       "    .dataframe thead th {\n",
       "        text-align: right;\n",
       "    }\n",
       "</style>\n",
       "<table border=\"1\" class=\"dataframe\">\n",
       "  <thead>\n",
       "    <tr style=\"text-align: right;\">\n",
       "      <th></th>\n",
       "      <th>Name</th>\n",
       "      <th>Module</th>\n",
       "      <th>Mark</th>\n",
       "    </tr>\n",
       "  </thead>\n",
       "  <tbody>\n",
       "    <tr>\n",
       "      <th>1</th>\n",
       "      <td>Alice</td>\n",
       "      <td>Chemistry</td>\n",
       "      <td>73</td>\n",
       "    </tr>\n",
       "    <tr>\n",
       "      <th>2</th>\n",
       "      <td>Bob</td>\n",
       "      <td>Math</td>\n",
       "      <td>68</td>\n",
       "    </tr>\n",
       "  </tbody>\n",
       "</table>\n",
       "</div>"
      ],
      "text/plain": [
       "    Name     Module  Mark\n",
       "1  Alice  Chemistry    73\n",
       "2    Bob       Math    68"
      ]
     },
     "execution_count": 78,
     "metadata": {},
     "output_type": "execute_result"
    }
   ],
   "source": [
    "df = pd.DataFrame({'Name': ['Alice', 'Bob'], \n",
    "                   'Module': ['Chemistry', 'Math'], \n",
    "                   'Mark': [73, 68]},\n",
    "                  index=[1, 2])\n",
    "df"
   ]
  },
  {
   "cell_type": "markdown",
   "id": "e8b3869d",
   "metadata": {},
   "source": [
    "<b>Dataframe</b> has attributes `values`, `index` and `columns` to access to the data, index and column labels."
   ]
  },
  {
   "cell_type": "code",
   "execution_count": 79,
   "id": "e7536672",
   "metadata": {},
   "outputs": [
    {
     "data": {
      "text/plain": [
       "array([['Alice', 'Chemistry', 73],\n",
       "       ['Bob', 'Math', 68]], dtype=object)"
      ]
     },
     "execution_count": 79,
     "metadata": {},
     "output_type": "execute_result"
    }
   ],
   "source": [
    "df.values"
   ]
  },
  {
   "cell_type": "code",
   "execution_count": 80,
   "id": "b023acb6",
   "metadata": {},
   "outputs": [
    {
     "data": {
      "text/plain": [
       "Index([1, 2], dtype='int64')"
      ]
     },
     "execution_count": 80,
     "metadata": {},
     "output_type": "execute_result"
    }
   ],
   "source": [
    "df.index"
   ]
  },
  {
   "cell_type": "code",
   "execution_count": 81,
   "id": "fdbe3f85",
   "metadata": {},
   "outputs": [
    {
     "data": {
      "text/plain": [
       "Index(['Name', 'Module', 'Mark'], dtype='object')"
      ]
     },
     "execution_count": 81,
     "metadata": {},
     "output_type": "execute_result"
    }
   ],
   "source": [
    "df.columns"
   ]
  },
  {
   "cell_type": "markdown",
   "id": "cd9946d8",
   "metadata": {},
   "source": [
    "## 2.2. Reading & viewing data in Pandas\n",
    "\n",
    "Pandas provides various functions to analyse and process the data for data analysis in machine learning and data science.\n",
    "\n",
    "### Reading data\n",
    "\n",
    "Pandas functions such as `read_csv()` or `read_excel()` import data files as a DataFrame `df`)."
   ]
  },
  {
   "cell_type": "code",
   "execution_count": 82,
   "id": "6378393c",
   "metadata": {},
   "outputs": [
    {
     "data": {
      "text/html": [
       "<div>\n",
       "<style scoped>\n",
       "    .dataframe tbody tr th:only-of-type {\n",
       "        vertical-align: middle;\n",
       "    }\n",
       "\n",
       "    .dataframe tbody tr th {\n",
       "        vertical-align: top;\n",
       "    }\n",
       "\n",
       "    .dataframe thead th {\n",
       "        text-align: right;\n",
       "    }\n",
       "</style>\n",
       "<table border=\"1\" class=\"dataframe\">\n",
       "  <thead>\n",
       "    <tr style=\"text-align: right;\">\n",
       "      <th></th>\n",
       "      <th>Year</th>\n",
       "      <th>Country</th>\n",
       "      <th>Continent</th>\n",
       "      <th>Emission</th>\n",
       "    </tr>\n",
       "  </thead>\n",
       "  <tbody>\n",
       "    <tr>\n",
       "      <th>0</th>\n",
       "      <td>2008</td>\n",
       "      <td>Aruba</td>\n",
       "      <td>South America</td>\n",
       "      <td>24.750133</td>\n",
       "    </tr>\n",
       "    <tr>\n",
       "      <th>1</th>\n",
       "      <td>2009</td>\n",
       "      <td>Aruba</td>\n",
       "      <td>South America</td>\n",
       "      <td>24.876706</td>\n",
       "    </tr>\n",
       "    <tr>\n",
       "      <th>2</th>\n",
       "      <td>2010</td>\n",
       "      <td>Aruba</td>\n",
       "      <td>South America</td>\n",
       "      <td>24.182702</td>\n",
       "    </tr>\n",
       "    <tr>\n",
       "      <th>3</th>\n",
       "      <td>2011</td>\n",
       "      <td>Aruba</td>\n",
       "      <td>South America</td>\n",
       "      <td>23.922412</td>\n",
       "    </tr>\n",
       "    <tr>\n",
       "      <th>4</th>\n",
       "      <td>2008</td>\n",
       "      <td>Andorra</td>\n",
       "      <td>Europe</td>\n",
       "      <td>6.296125</td>\n",
       "    </tr>\n",
       "    <tr>\n",
       "      <th>...</th>\n",
       "      <td>...</td>\n",
       "      <td>...</td>\n",
       "      <td>...</td>\n",
       "      <td>...</td>\n",
       "    </tr>\n",
       "    <tr>\n",
       "      <th>783</th>\n",
       "      <td>2011</td>\n",
       "      <td>Zambia</td>\n",
       "      <td>Africa</td>\n",
       "      <td>0.212450</td>\n",
       "    </tr>\n",
       "    <tr>\n",
       "      <th>784</th>\n",
       "      <td>2008</td>\n",
       "      <td>Zimbabwe</td>\n",
       "      <td>Africa</td>\n",
       "      <td>0.569255</td>\n",
       "    </tr>\n",
       "    <tr>\n",
       "      <th>785</th>\n",
       "      <td>2009</td>\n",
       "      <td>Zimbabwe</td>\n",
       "      <td>Africa</td>\n",
       "      <td>0.600521</td>\n",
       "    </tr>\n",
       "    <tr>\n",
       "      <th>786</th>\n",
       "      <td>2010</td>\n",
       "      <td>Zimbabwe</td>\n",
       "      <td>Africa</td>\n",
       "      <td>0.646073</td>\n",
       "    </tr>\n",
       "    <tr>\n",
       "      <th>787</th>\n",
       "      <td>2011</td>\n",
       "      <td>Zimbabwe</td>\n",
       "      <td>Africa</td>\n",
       "      <td>0.691698</td>\n",
       "    </tr>\n",
       "  </tbody>\n",
       "</table>\n",
       "<p>788 rows × 4 columns</p>\n",
       "</div>"
      ],
      "text/plain": [
       "     Year   Country      Continent   Emission\n",
       "0    2008     Aruba  South America  24.750133\n",
       "1    2009     Aruba  South America  24.876706\n",
       "2    2010     Aruba  South America  24.182702\n",
       "3    2011     Aruba  South America  23.922412\n",
       "4    2008   Andorra         Europe   6.296125\n",
       "..    ...       ...            ...        ...\n",
       "783  2011    Zambia         Africa   0.212450\n",
       "784  2008  Zimbabwe         Africa   0.569255\n",
       "785  2009  Zimbabwe         Africa   0.600521\n",
       "786  2010  Zimbabwe         Africa   0.646073\n",
       "787  2011  Zimbabwe         Africa   0.691698\n",
       "\n",
       "[788 rows x 4 columns]"
      ]
     },
     "execution_count": 82,
     "metadata": {},
     "output_type": "execute_result"
    }
   ],
   "source": [
    "dfemissions = pd.read_csv(\"https://raw.githubusercontent.com/plotly/datasets/master/Emissions%20Data.csv\")\n",
    "dfemissions"
   ]
  },
  {
   "cell_type": "markdown",
   "id": "4cfe5bcb",
   "metadata": {},
   "source": [
    "### Viewing data"
   ]
  },
  {
   "cell_type": "code",
   "execution_count": 83,
   "id": "a8d91526",
   "metadata": {},
   "outputs": [
    {
     "data": {
      "text/plain": [
       "array([[2008, 'Aruba', 'South America', 24.75013321],\n",
       "       [2009, 'Aruba', 'South America', 24.87670585],\n",
       "       [2010, 'Aruba', 'South America', 24.18270225],\n",
       "       ...,\n",
       "       [2009, 'Zimbabwe', 'Africa', 0.600521157],\n",
       "       [2010, 'Zimbabwe', 'Africa', 0.646072745],\n",
       "       [2011, 'Zimbabwe', 'Africa', 0.691697897]], dtype=object)"
      ]
     },
     "execution_count": 83,
     "metadata": {},
     "output_type": "execute_result"
    }
   ],
   "source": [
    "# View the actual data inside the data structure DataFrame using attribute .values\n",
    "dfemissions.values"
   ]
  },
  {
   "cell_type": "code",
   "execution_count": 84,
   "id": "438286f3",
   "metadata": {},
   "outputs": [
    {
     "data": {
      "text/html": [
       "<div>\n",
       "<style scoped>\n",
       "    .dataframe tbody tr th:only-of-type {\n",
       "        vertical-align: middle;\n",
       "    }\n",
       "\n",
       "    .dataframe tbody tr th {\n",
       "        vertical-align: top;\n",
       "    }\n",
       "\n",
       "    .dataframe thead th {\n",
       "        text-align: right;\n",
       "    }\n",
       "</style>\n",
       "<table border=\"1\" class=\"dataframe\">\n",
       "  <thead>\n",
       "    <tr style=\"text-align: right;\">\n",
       "      <th></th>\n",
       "      <th>Year</th>\n",
       "      <th>Country</th>\n",
       "      <th>Continent</th>\n",
       "      <th>Emission</th>\n",
       "    </tr>\n",
       "  </thead>\n",
       "  <tbody>\n",
       "    <tr>\n",
       "      <th>0</th>\n",
       "      <td>2008</td>\n",
       "      <td>Aruba</td>\n",
       "      <td>South America</td>\n",
       "      <td>24.750133</td>\n",
       "    </tr>\n",
       "    <tr>\n",
       "      <th>1</th>\n",
       "      <td>2009</td>\n",
       "      <td>Aruba</td>\n",
       "      <td>South America</td>\n",
       "      <td>24.876706</td>\n",
       "    </tr>\n",
       "    <tr>\n",
       "      <th>2</th>\n",
       "      <td>2010</td>\n",
       "      <td>Aruba</td>\n",
       "      <td>South America</td>\n",
       "      <td>24.182702</td>\n",
       "    </tr>\n",
       "    <tr>\n",
       "      <th>3</th>\n",
       "      <td>2011</td>\n",
       "      <td>Aruba</td>\n",
       "      <td>South America</td>\n",
       "      <td>23.922412</td>\n",
       "    </tr>\n",
       "    <tr>\n",
       "      <th>4</th>\n",
       "      <td>2008</td>\n",
       "      <td>Andorra</td>\n",
       "      <td>Europe</td>\n",
       "      <td>6.296125</td>\n",
       "    </tr>\n",
       "  </tbody>\n",
       "</table>\n",
       "</div>"
      ],
      "text/plain": [
       "   Year  Country      Continent   Emission\n",
       "0  2008    Aruba  South America  24.750133\n",
       "1  2009    Aruba  South America  24.876706\n",
       "2  2010    Aruba  South America  24.182702\n",
       "3  2011    Aruba  South America  23.922412\n",
       "4  2008  Andorra         Europe   6.296125"
      ]
     },
     "execution_count": 84,
     "metadata": {},
     "output_type": "execute_result"
    }
   ],
   "source": [
    "# View by default the first five samples using method .head()\n",
    "dfemissions.head()"
   ]
  },
  {
   "cell_type": "code",
   "execution_count": 85,
   "id": "6b997490",
   "metadata": {},
   "outputs": [
    {
     "data": {
      "text/html": [
       "<div>\n",
       "<style scoped>\n",
       "    .dataframe tbody tr th:only-of-type {\n",
       "        vertical-align: middle;\n",
       "    }\n",
       "\n",
       "    .dataframe tbody tr th {\n",
       "        vertical-align: top;\n",
       "    }\n",
       "\n",
       "    .dataframe thead th {\n",
       "        text-align: right;\n",
       "    }\n",
       "</style>\n",
       "<table border=\"1\" class=\"dataframe\">\n",
       "  <thead>\n",
       "    <tr style=\"text-align: right;\">\n",
       "      <th></th>\n",
       "      <th>Year</th>\n",
       "      <th>Country</th>\n",
       "      <th>Continent</th>\n",
       "      <th>Emission</th>\n",
       "    </tr>\n",
       "  </thead>\n",
       "  <tbody>\n",
       "    <tr>\n",
       "      <th>785</th>\n",
       "      <td>2009</td>\n",
       "      <td>Zimbabwe</td>\n",
       "      <td>Africa</td>\n",
       "      <td>0.600521</td>\n",
       "    </tr>\n",
       "    <tr>\n",
       "      <th>786</th>\n",
       "      <td>2010</td>\n",
       "      <td>Zimbabwe</td>\n",
       "      <td>Africa</td>\n",
       "      <td>0.646073</td>\n",
       "    </tr>\n",
       "    <tr>\n",
       "      <th>787</th>\n",
       "      <td>2011</td>\n",
       "      <td>Zimbabwe</td>\n",
       "      <td>Africa</td>\n",
       "      <td>0.691698</td>\n",
       "    </tr>\n",
       "  </tbody>\n",
       "</table>\n",
       "</div>"
      ],
      "text/plain": [
       "     Year   Country Continent  Emission\n",
       "785  2009  Zimbabwe    Africa  0.600521\n",
       "786  2010  Zimbabwe    Africa  0.646073\n",
       "787  2011  Zimbabwe    Africa  0.691698"
      ]
     },
     "execution_count": 85,
     "metadata": {},
     "output_type": "execute_result"
    }
   ],
   "source": [
    "# View the last three samples using method .tail()\n",
    "dfemissions.tail(3)"
   ]
  },
  {
   "cell_type": "code",
   "execution_count": 86,
   "id": "9eef00d6",
   "metadata": {},
   "outputs": [
    {
     "data": {
      "text/plain": [
       "Year           int64\n",
       "Country       object\n",
       "Continent     object\n",
       "Emission     float64\n",
       "dtype: object"
      ]
     },
     "execution_count": 86,
     "metadata": {},
     "output_type": "execute_result"
    }
   ],
   "source": [
    "# View the data type of the each column using attribute .dtypes\n",
    "dfemissions.dtypes"
   ]
  },
  {
   "cell_type": "code",
   "execution_count": 87,
   "id": "61d7d1fd",
   "metadata": {},
   "outputs": [
    {
     "data": {
      "text/plain": [
       "0      2008.0\n",
       "1      2009.0\n",
       "2      2010.0\n",
       "3      2011.0\n",
       "4      2008.0\n",
       "        ...  \n",
       "783    2011.0\n",
       "784    2008.0\n",
       "785    2009.0\n",
       "786    2010.0\n",
       "787    2011.0\n",
       "Name: Year, Length: 788, dtype: float64"
      ]
     },
     "execution_count": 87,
     "metadata": {},
     "output_type": "execute_result"
    }
   ],
   "source": [
    "# Change the data type of the `Year` column to `float64` using method .astype()\n",
    "dfemissions.Year.astype('float64')"
   ]
  },
  {
   "cell_type": "code",
   "execution_count": 88,
   "id": "29a5865c",
   "metadata": {},
   "outputs": [
    {
     "data": {
      "text/plain": [
       "(788, 4)"
      ]
     },
     "execution_count": 88,
     "metadata": {},
     "output_type": "execute_result"
    }
   ],
   "source": [
    "# Check how many dimensions of the data using attribute .shape\n",
    "dfemissions.shape"
   ]
  },
  {
   "cell_type": "markdown",
   "id": "0b9df8d7",
   "metadata": {},
   "source": [
    "<div class=\"alert alert-info\">\n",
    "    <h4>Task 2.2</h4>\n",
    "</div>\n",
    "\n",
    "To import different file types, find the suitable Pandas function from Pandas I/O functions in [IO tools description](https://pandas.pydata.org/pandas-docs/stable/user_guide/io.html) to read the excel file at path ```data/data-combinatorial-challenge.xlsx``` and name the data object ```dfC```. Then show the number of columns in the DataFrame `dfC`."
   ]
  },
  {
   "cell_type": "code",
   "execution_count": 93,
   "id": "67f18f3b",
   "metadata": {},
   "outputs": [
    {
     "data": {
      "text/plain": [
       "Index(['N', '2*N', 'N^2', 'N^8', '2^N', 'N!'], dtype='object')"
      ]
     },
     "execution_count": 93,
     "metadata": {},
     "output_type": "execute_result"
    }
   ],
   "source": [
    "path_to_file = 'data-combinatorial-challenge.xlsx'\n",
    "\n",
    "# Your code goes here\n",
    "dfC = pd.read_excel(path_to_file)\n",
    "dfC.columns\n",
    "\n"
   ]
  },
  {
   "cell_type": "markdown",
   "id": "c8ccc4a1",
   "metadata": {},
   "source": [
    "### Descriptive statistics\n",
    "Pandas provides various [functions](https://pandas.pydata.org/docs/user_guide/basics.html#descriptive-statistics) to easily find statistical information of the data."
   ]
  },
  {
   "cell_type": "code",
   "execution_count": 94,
   "id": "79044bcb",
   "metadata": {},
   "outputs": [
    {
     "data": {
      "text/plain": [
       "4.9083670030558375"
      ]
     },
     "execution_count": 94,
     "metadata": {},
     "output_type": "execute_result"
    }
   ],
   "source": [
    "# Calculate the mean of the data in the `Emission` column using method .mean()\n",
    "dfemissions['Emission'].mean()"
   ]
  },
  {
   "cell_type": "code",
   "execution_count": 95,
   "id": "54363073",
   "metadata": {},
   "outputs": [
    {
     "data": {
      "text/plain": [
       "6.406295153046607"
      ]
     },
     "execution_count": 95,
     "metadata": {},
     "output_type": "execute_result"
    }
   ],
   "source": [
    "# Calculate the standard deviation of the data in the `Emission` column\n",
    "dfemissions['Emission'].std()"
   ]
  },
  {
   "cell_type": "code",
   "execution_count": 96,
   "id": "6992aef9",
   "metadata": {},
   "outputs": [
    {
     "data": {
      "text/plain": [
       "3867.793198408"
      ]
     },
     "execution_count": 96,
     "metadata": {},
     "output_type": "execute_result"
    }
   ],
   "source": [
    "# Calculate the sum of the data in the `Emission` column\n",
    "dfemissions['Emission'].sum()"
   ]
  },
  {
   "cell_type": "code",
   "execution_count": 97,
   "id": "9333a5db",
   "metadata": {},
   "outputs": [
    {
     "data": {
      "text/html": [
       "<div>\n",
       "<style scoped>\n",
       "    .dataframe tbody tr th:only-of-type {\n",
       "        vertical-align: middle;\n",
       "    }\n",
       "\n",
       "    .dataframe tbody tr th {\n",
       "        vertical-align: top;\n",
       "    }\n",
       "\n",
       "    .dataframe thead th {\n",
       "        text-align: right;\n",
       "    }\n",
       "</style>\n",
       "<table border=\"1\" class=\"dataframe\">\n",
       "  <thead>\n",
       "    <tr style=\"text-align: right;\">\n",
       "      <th></th>\n",
       "      <th>Year</th>\n",
       "      <th>Emission</th>\n",
       "    </tr>\n",
       "  </thead>\n",
       "  <tbody>\n",
       "    <tr>\n",
       "      <th>count</th>\n",
       "      <td>788.000000</td>\n",
       "      <td>788.000000</td>\n",
       "    </tr>\n",
       "    <tr>\n",
       "      <th>mean</th>\n",
       "      <td>2009.500000</td>\n",
       "      <td>4.908367</td>\n",
       "    </tr>\n",
       "    <tr>\n",
       "      <th>std</th>\n",
       "      <td>1.118744</td>\n",
       "      <td>6.406295</td>\n",
       "    </tr>\n",
       "    <tr>\n",
       "      <th>min</th>\n",
       "      <td>2008.000000</td>\n",
       "      <td>0.020542</td>\n",
       "    </tr>\n",
       "    <tr>\n",
       "      <th>25%</th>\n",
       "      <td>2008.750000</td>\n",
       "      <td>0.624630</td>\n",
       "    </tr>\n",
       "    <tr>\n",
       "      <th>50%</th>\n",
       "      <td>2009.500000</td>\n",
       "      <td>2.590285</td>\n",
       "    </tr>\n",
       "    <tr>\n",
       "      <th>75%</th>\n",
       "      <td>2010.250000</td>\n",
       "      <td>6.704494</td>\n",
       "    </tr>\n",
       "    <tr>\n",
       "      <th>max</th>\n",
       "      <td>2011.000000</td>\n",
       "      <td>48.601620</td>\n",
       "    </tr>\n",
       "  </tbody>\n",
       "</table>\n",
       "</div>"
      ],
      "text/plain": [
       "              Year    Emission\n",
       "count   788.000000  788.000000\n",
       "mean   2009.500000    4.908367\n",
       "std       1.118744    6.406295\n",
       "min    2008.000000    0.020542\n",
       "25%    2008.750000    0.624630\n",
       "50%    2009.500000    2.590285\n",
       "75%    2010.250000    6.704494\n",
       "max    2011.000000   48.601620"
      ]
     },
     "execution_count": 97,
     "metadata": {},
     "output_type": "execute_result"
    }
   ],
   "source": [
    "# Generates a high-level summary of the attributes of the DataFrame (numerical columns only)\n",
    "dfemissions.describe()"
   ]
  },
  {
   "cell_type": "markdown",
   "id": "efa92ecc",
   "metadata": {},
   "source": [
    "## 2.3. Indexing and selection in Pandas\n",
    "\n",
    "### Data indexing\n",
    "\n",
    "We can access data in DataFrame by either `dataframe[colname]` or an attribute ```dataframe.colname```."
   ]
  },
  {
   "cell_type": "code",
   "execution_count": 98,
   "id": "8bbdfdcc",
   "metadata": {},
   "outputs": [
    {
     "data": {
      "text/plain": [
       "0      South America\n",
       "1      South America\n",
       "2      South America\n",
       "3      South America\n",
       "4             Europe\n",
       "           ...      \n",
       "783           Africa\n",
       "784           Africa\n",
       "785           Africa\n",
       "786           Africa\n",
       "787           Africa\n",
       "Name: Continent, Length: 788, dtype: object"
      ]
     },
     "execution_count": 98,
     "metadata": {},
     "output_type": "execute_result"
    }
   ],
   "source": [
    "# access a slice by `dataFrame[colname]`\n",
    "dfemissions['Continent']"
   ]
  },
  {
   "cell_type": "code",
   "execution_count": 99,
   "id": "449e220c",
   "metadata": {},
   "outputs": [
    {
     "data": {
      "text/plain": [
       "0      South America\n",
       "1      South America\n",
       "2      South America\n",
       "3      South America\n",
       "4             Europe\n",
       "           ...      \n",
       "783           Africa\n",
       "784           Africa\n",
       "785           Africa\n",
       "786           Africa\n",
       "787           Africa\n",
       "Name: Continent, Length: 788, dtype: object"
      ]
     },
     "execution_count": 99,
     "metadata": {},
     "output_type": "execute_result"
    }
   ],
   "source": [
    "# access a slice by an attribute `dataFrame.colname`\n",
    "dfemissions.Continent"
   ]
  },
  {
   "cell_type": "markdown",
   "id": "7f694087",
   "metadata": {},
   "source": [
    "We can select data by two indexing operators, i.e., ```iloc``` (index-based using index) and ```loc``` (label-based using column labels)."
   ]
  },
  {
   "cell_type": "code",
   "execution_count": 100,
   "id": "2934f8d1",
   "metadata": {},
   "outputs": [
    {
     "data": {
      "text/plain": [
       "Year                  2009\n",
       "Country              Aruba\n",
       "Continent    South America\n",
       "Emission         24.876706\n",
       "Name: 1, dtype: object"
      ]
     },
     "execution_count": 100,
     "metadata": {},
     "output_type": "execute_result"
    }
   ],
   "source": [
    "# index-based selection: access row 1 in dataFrame\n",
    "dfemissions.iloc[1] "
   ]
  },
  {
   "cell_type": "code",
   "execution_count": 101,
   "id": "d206987a",
   "metadata": {
    "scrolled": true
   },
   "outputs": [
    {
     "data": {
      "text/plain": [
       "0      South America\n",
       "1      South America\n",
       "2      South America\n",
       "3      South America\n",
       "4             Europe\n",
       "           ...      \n",
       "783           Africa\n",
       "784           Africa\n",
       "785           Africa\n",
       "786           Africa\n",
       "787           Africa\n",
       "Name: Continent, Length: 788, dtype: object"
      ]
     },
     "execution_count": 101,
     "metadata": {},
     "output_type": "execute_result"
    }
   ],
   "source": [
    "# access column 2 in dataFrame\n",
    "dfemissions.iloc[:,2]"
   ]
  },
  {
   "cell_type": "code",
   "execution_count": 102,
   "id": "4d794396",
   "metadata": {},
   "outputs": [
    {
     "data": {
      "text/html": [
       "<div>\n",
       "<style scoped>\n",
       "    .dataframe tbody tr th:only-of-type {\n",
       "        vertical-align: middle;\n",
       "    }\n",
       "\n",
       "    .dataframe tbody tr th {\n",
       "        vertical-align: top;\n",
       "    }\n",
       "\n",
       "    .dataframe thead th {\n",
       "        text-align: right;\n",
       "    }\n",
       "</style>\n",
       "<table border=\"1\" class=\"dataframe\">\n",
       "  <thead>\n",
       "    <tr style=\"text-align: right;\">\n",
       "      <th></th>\n",
       "      <th>Country</th>\n",
       "      <th>Emission</th>\n",
       "    </tr>\n",
       "  </thead>\n",
       "  <tbody>\n",
       "    <tr>\n",
       "      <th>0</th>\n",
       "      <td>Aruba</td>\n",
       "      <td>24.750133</td>\n",
       "    </tr>\n",
       "    <tr>\n",
       "      <th>1</th>\n",
       "      <td>Aruba</td>\n",
       "      <td>24.876706</td>\n",
       "    </tr>\n",
       "    <tr>\n",
       "      <th>2</th>\n",
       "      <td>Aruba</td>\n",
       "      <td>24.182702</td>\n",
       "    </tr>\n",
       "    <tr>\n",
       "      <th>3</th>\n",
       "      <td>Aruba</td>\n",
       "      <td>23.922412</td>\n",
       "    </tr>\n",
       "    <tr>\n",
       "      <th>4</th>\n",
       "      <td>Andorra</td>\n",
       "      <td>6.296125</td>\n",
       "    </tr>\n",
       "    <tr>\n",
       "      <th>...</th>\n",
       "      <td>...</td>\n",
       "      <td>...</td>\n",
       "    </tr>\n",
       "    <tr>\n",
       "      <th>783</th>\n",
       "      <td>Zambia</td>\n",
       "      <td>0.212450</td>\n",
       "    </tr>\n",
       "    <tr>\n",
       "      <th>784</th>\n",
       "      <td>Zimbabwe</td>\n",
       "      <td>0.569255</td>\n",
       "    </tr>\n",
       "    <tr>\n",
       "      <th>785</th>\n",
       "      <td>Zimbabwe</td>\n",
       "      <td>0.600521</td>\n",
       "    </tr>\n",
       "    <tr>\n",
       "      <th>786</th>\n",
       "      <td>Zimbabwe</td>\n",
       "      <td>0.646073</td>\n",
       "    </tr>\n",
       "    <tr>\n",
       "      <th>787</th>\n",
       "      <td>Zimbabwe</td>\n",
       "      <td>0.691698</td>\n",
       "    </tr>\n",
       "  </tbody>\n",
       "</table>\n",
       "<p>788 rows × 2 columns</p>\n",
       "</div>"
      ],
      "text/plain": [
       "      Country   Emission\n",
       "0       Aruba  24.750133\n",
       "1       Aruba  24.876706\n",
       "2       Aruba  24.182702\n",
       "3       Aruba  23.922412\n",
       "4     Andorra   6.296125\n",
       "..        ...        ...\n",
       "783    Zambia   0.212450\n",
       "784  Zimbabwe   0.569255\n",
       "785  Zimbabwe   0.600521\n",
       "786  Zimbabwe   0.646073\n",
       "787  Zimbabwe   0.691698\n",
       "\n",
       "[788 rows x 2 columns]"
      ]
     },
     "execution_count": 102,
     "metadata": {},
     "output_type": "execute_result"
    }
   ],
   "source": [
    "# label-based selection: show each row of the columns 'Country' and 'Emission'\n",
    "dfemissions.loc[:,['Country','Emission']]"
   ]
  },
  {
   "cell_type": "markdown",
   "id": "8dae7fa7",
   "metadata": {},
   "source": [
    "<div class=\"alert alert-info\">\n",
    "    <h4>Task 2.3</h4>\n",
    "</div>\n",
    "\n",
    "Is there an error in the below code cell? If so how to fix it?"
   ]
  },
  {
   "cell_type": "code",
   "execution_count": 104,
   "id": "8ee84854",
   "metadata": {},
   "outputs": [
    {
     "data": {
      "text/plain": [
       "0      Aruba\n",
       "1      Aruba\n",
       "2      Aruba\n",
       "3      Aruba\n",
       "4    Andorra\n",
       "Name: Country, dtype: object"
      ]
     },
     "execution_count": 104,
     "metadata": {},
     "output_type": "execute_result"
    }
   ],
   "source": [
    "dfemissions.iloc[:5,1]"
   ]
  },
  {
   "cell_type": "markdown",
   "id": "ca1e2737",
   "metadata": {},
   "source": [
    "### Data slicing"
   ]
  },
  {
   "cell_type": "code",
   "execution_count": 105,
   "id": "88d2f62a",
   "metadata": {
    "scrolled": true
   },
   "outputs": [
    {
     "data": {
      "text/html": [
       "<div>\n",
       "<style scoped>\n",
       "    .dataframe tbody tr th:only-of-type {\n",
       "        vertical-align: middle;\n",
       "    }\n",
       "\n",
       "    .dataframe tbody tr th {\n",
       "        vertical-align: top;\n",
       "    }\n",
       "\n",
       "    .dataframe thead th {\n",
       "        text-align: right;\n",
       "    }\n",
       "</style>\n",
       "<table border=\"1\" class=\"dataframe\">\n",
       "  <thead>\n",
       "    <tr style=\"text-align: right;\">\n",
       "      <th></th>\n",
       "      <th>Year</th>\n",
       "      <th>Country</th>\n",
       "      <th>Continent</th>\n",
       "      <th>Emission</th>\n",
       "    </tr>\n",
       "  </thead>\n",
       "  <tbody>\n",
       "    <tr>\n",
       "      <th>5</th>\n",
       "      <td>2009</td>\n",
       "      <td>Andorra</td>\n",
       "      <td>Europe</td>\n",
       "      <td>6.049173</td>\n",
       "    </tr>\n",
       "    <tr>\n",
       "      <th>6</th>\n",
       "      <td>2010</td>\n",
       "      <td>Andorra</td>\n",
       "      <td>Europe</td>\n",
       "      <td>6.124770</td>\n",
       "    </tr>\n",
       "    <tr>\n",
       "      <th>7</th>\n",
       "      <td>2011</td>\n",
       "      <td>Andorra</td>\n",
       "      <td>Europe</td>\n",
       "      <td>5.968685</td>\n",
       "    </tr>\n",
       "    <tr>\n",
       "      <th>8</th>\n",
       "      <td>2008</td>\n",
       "      <td>Afghanistan</td>\n",
       "      <td>Asia</td>\n",
       "      <td>0.158962</td>\n",
       "    </tr>\n",
       "    <tr>\n",
       "      <th>9</th>\n",
       "      <td>2009</td>\n",
       "      <td>Afghanistan</td>\n",
       "      <td>Asia</td>\n",
       "      <td>0.249074</td>\n",
       "    </tr>\n",
       "  </tbody>\n",
       "</table>\n",
       "</div>"
      ],
      "text/plain": [
       "   Year      Country Continent  Emission\n",
       "5  2009      Andorra    Europe  6.049173\n",
       "6  2010      Andorra    Europe  6.124770\n",
       "7  2011      Andorra    Europe  5.968685\n",
       "8  2008  Afghanistan      Asia  0.158962\n",
       "9  2009  Afghanistan      Asia  0.249074"
      ]
     },
     "execution_count": 105,
     "metadata": {},
     "output_type": "execute_result"
    }
   ],
   "source": [
    "# Select the 5th-10th rows of the data\n",
    "dfemissions[5:10]"
   ]
  },
  {
   "cell_type": "code",
   "execution_count": 107,
   "id": "3a33684a",
   "metadata": {},
   "outputs": [
    {
     "data": {
      "text/html": [
       "<div>\n",
       "<style scoped>\n",
       "    .dataframe tbody tr th:only-of-type {\n",
       "        vertical-align: middle;\n",
       "    }\n",
       "\n",
       "    .dataframe tbody tr th {\n",
       "        vertical-align: top;\n",
       "    }\n",
       "\n",
       "    .dataframe thead th {\n",
       "        text-align: right;\n",
       "    }\n",
       "</style>\n",
       "<table border=\"1\" class=\"dataframe\">\n",
       "  <thead>\n",
       "    <tr style=\"text-align: right;\">\n",
       "      <th></th>\n",
       "      <th>Year</th>\n",
       "      <th>Country</th>\n",
       "      <th>Continent</th>\n",
       "      <th>Emission</th>\n",
       "    </tr>\n",
       "  </thead>\n",
       "  <tbody>\n",
       "    <tr>\n",
       "      <th>4</th>\n",
       "      <td>2008</td>\n",
       "      <td>Andorra</td>\n",
       "      <td>Europe</td>\n",
       "      <td>6.296125</td>\n",
       "    </tr>\n",
       "    <tr>\n",
       "      <th>5</th>\n",
       "      <td>2009</td>\n",
       "      <td>Andorra</td>\n",
       "      <td>Europe</td>\n",
       "      <td>6.049173</td>\n",
       "    </tr>\n",
       "    <tr>\n",
       "      <th>6</th>\n",
       "      <td>2010</td>\n",
       "      <td>Andorra</td>\n",
       "      <td>Europe</td>\n",
       "      <td>6.124770</td>\n",
       "    </tr>\n",
       "    <tr>\n",
       "      <th>7</th>\n",
       "      <td>2011</td>\n",
       "      <td>Andorra</td>\n",
       "      <td>Europe</td>\n",
       "      <td>5.968685</td>\n",
       "    </tr>\n",
       "    <tr>\n",
       "      <th>16</th>\n",
       "      <td>2008</td>\n",
       "      <td>Albania</td>\n",
       "      <td>Europe</td>\n",
       "      <td>1.580113</td>\n",
       "    </tr>\n",
       "    <tr>\n",
       "      <th>...</th>\n",
       "      <td>...</td>\n",
       "      <td>...</td>\n",
       "      <td>...</td>\n",
       "      <td>...</td>\n",
       "    </tr>\n",
       "    <tr>\n",
       "      <th>759</th>\n",
       "      <td>2011</td>\n",
       "      <td>Vanuatu</td>\n",
       "      <td>Oceania</td>\n",
       "      <td>0.591266</td>\n",
       "    </tr>\n",
       "    <tr>\n",
       "      <th>764</th>\n",
       "      <td>2008</td>\n",
       "      <td>Samoa</td>\n",
       "      <td>Oceania</td>\n",
       "      <td>1.039490</td>\n",
       "    </tr>\n",
       "    <tr>\n",
       "      <th>765</th>\n",
       "      <td>2009</td>\n",
       "      <td>Samoa</td>\n",
       "      <td>Oceania</td>\n",
       "      <td>1.072106</td>\n",
       "    </tr>\n",
       "    <tr>\n",
       "      <th>766</th>\n",
       "      <td>2010</td>\n",
       "      <td>Samoa</td>\n",
       "      <td>Oceania</td>\n",
       "      <td>1.103871</td>\n",
       "    </tr>\n",
       "    <tr>\n",
       "      <th>767</th>\n",
       "      <td>2011</td>\n",
       "      <td>Samoa</td>\n",
       "      <td>Oceania</td>\n",
       "      <td>1.252110</td>\n",
       "    </tr>\n",
       "  </tbody>\n",
       "</table>\n",
       "<p>236 rows × 4 columns</p>\n",
       "</div>"
      ],
      "text/plain": [
       "     Year  Country Continent  Emission\n",
       "4    2008  Andorra    Europe  6.296125\n",
       "5    2009  Andorra    Europe  6.049173\n",
       "6    2010  Andorra    Europe  6.124770\n",
       "7    2011  Andorra    Europe  5.968685\n",
       "16   2008  Albania    Europe  1.580113\n",
       "..    ...      ...       ...       ...\n",
       "759  2011  Vanuatu   Oceania  0.591266\n",
       "764  2008    Samoa   Oceania  1.039490\n",
       "765  2009    Samoa   Oceania  1.072106\n",
       "766  2010    Samoa   Oceania  1.103871\n",
       "767  2011    Samoa   Oceania  1.252110\n",
       "\n",
       "[236 rows x 4 columns]"
      ]
     },
     "execution_count": 107,
     "metadata": {},
     "output_type": "execute_result"
    }
   ],
   "source": [
    "# Show the samples where the Continent is in 'countries', using label-based selection\n",
    "\n",
    "countries = [\"Oceania\",\"Europe\"] # list of selected continents\n",
    "\n",
    "# dfemissions.loc[x]: select rows in dfemissions with values in x\n",
    "# dfemissions.Continent.isin(countries): find rows with Continent values in countries\n",
    "dfemissions.loc[dfemissions.Continent.isin(countries)]"
   ]
  },
  {
   "cell_type": "code",
   "execution_count": 111,
   "id": "3792abd0",
   "metadata": {},
   "outputs": [],
   "source": [
    "# Access the built-in documentation of functions using `?`\n",
    "dfemissions.Continent.isin?"
   ]
  },
  {
   "cell_type": "markdown",
   "id": "55659903",
   "metadata": {},
   "source": [
    "<div class=\"alert alert-info\">\n",
    "    <h4>Task 2.4</h4>\n",
    "</div>\n",
    "\n",
    "Show the first ten samples in `dfemissions` where `Emission` is higher than the mean emission value.<br>\n",
    "<b>Hint</b>: break the task into subtasks. For example, calculate the mean value first, then do the conditional data slicing. "
   ]
  },
  {
   "cell_type": "code",
   "execution_count": 134,
   "id": "26c8e49d",
   "metadata": {},
   "outputs": [
    {
     "data": {
      "text/html": [
       "<div>\n",
       "<style scoped>\n",
       "    .dataframe tbody tr th:only-of-type {\n",
       "        vertical-align: middle;\n",
       "    }\n",
       "\n",
       "    .dataframe tbody tr th {\n",
       "        vertical-align: top;\n",
       "    }\n",
       "\n",
       "    .dataframe thead th {\n",
       "        text-align: right;\n",
       "    }\n",
       "</style>\n",
       "<table border=\"1\" class=\"dataframe\">\n",
       "  <thead>\n",
       "    <tr style=\"text-align: right;\">\n",
       "      <th></th>\n",
       "      <th>Year</th>\n",
       "      <th>Country</th>\n",
       "      <th>Continent</th>\n",
       "      <th>Emission</th>\n",
       "    </tr>\n",
       "  </thead>\n",
       "  <tbody>\n",
       "    <tr>\n",
       "      <th>0</th>\n",
       "      <td>2008</td>\n",
       "      <td>Aruba</td>\n",
       "      <td>South America</td>\n",
       "      <td>24.750133</td>\n",
       "    </tr>\n",
       "    <tr>\n",
       "      <th>1</th>\n",
       "      <td>2009</td>\n",
       "      <td>Aruba</td>\n",
       "      <td>South America</td>\n",
       "      <td>24.876706</td>\n",
       "    </tr>\n",
       "    <tr>\n",
       "      <th>2</th>\n",
       "      <td>2010</td>\n",
       "      <td>Aruba</td>\n",
       "      <td>South America</td>\n",
       "      <td>24.182702</td>\n",
       "    </tr>\n",
       "    <tr>\n",
       "      <th>3</th>\n",
       "      <td>2011</td>\n",
       "      <td>Aruba</td>\n",
       "      <td>South America</td>\n",
       "      <td>23.922412</td>\n",
       "    </tr>\n",
       "    <tr>\n",
       "      <th>4</th>\n",
       "      <td>2008</td>\n",
       "      <td>Andorra</td>\n",
       "      <td>Europe</td>\n",
       "      <td>6.296125</td>\n",
       "    </tr>\n",
       "    <tr>\n",
       "      <th>5</th>\n",
       "      <td>2009</td>\n",
       "      <td>Andorra</td>\n",
       "      <td>Europe</td>\n",
       "      <td>6.049173</td>\n",
       "    </tr>\n",
       "    <tr>\n",
       "      <th>6</th>\n",
       "      <td>2010</td>\n",
       "      <td>Andorra</td>\n",
       "      <td>Europe</td>\n",
       "      <td>6.124770</td>\n",
       "    </tr>\n",
       "    <tr>\n",
       "      <th>7</th>\n",
       "      <td>2011</td>\n",
       "      <td>Andorra</td>\n",
       "      <td>Europe</td>\n",
       "      <td>5.968685</td>\n",
       "    </tr>\n",
       "  </tbody>\n",
       "</table>\n",
       "</div>"
      ],
      "text/plain": [
       "   Year  Country      Continent   Emission\n",
       "0  2008    Aruba  South America  24.750133\n",
       "1  2009    Aruba  South America  24.876706\n",
       "2  2010    Aruba  South America  24.182702\n",
       "3  2011    Aruba  South America  23.922412\n",
       "4  2008  Andorra         Europe   6.296125\n",
       "5  2009  Andorra         Europe   6.049173\n",
       "6  2010  Andorra         Europe   6.124770\n",
       "7  2011  Andorra         Europe   5.968685"
      ]
     },
     "execution_count": 134,
     "metadata": {},
     "output_type": "execute_result"
    }
   ],
   "source": [
    "# Your code goes here.\n",
    "meanEmission = dfemissions['Emission'].mean()\n",
    "dfemissions[dfemissions['Emission'] > meanEmission].loc[:10]\n",
    "\n"
   ]
  },
  {
   "cell_type": "markdown",
   "id": "7be66a7b",
   "metadata": {},
   "source": [
    "## 2.4. Grouping, sorting and mapping\n",
    "\n",
    "We often need to group things together by certain characteristics, to analyse selected data important to us."
   ]
  },
  {
   "cell_type": "markdown",
   "id": "022c8961",
   "metadata": {},
   "source": [
    "## Grouping\n",
    "\n",
    "The [```groupby()```](https://pandas.pydata.org/docs/reference/api/pandas.DataFrame.groupby.html) method returns a `groupby` object that contains information of grouped data. Each group is a slice of the DataFrame containing only data with values that match."
   ]
  },
  {
   "cell_type": "code",
   "execution_count": 135,
   "id": "cd757084",
   "metadata": {},
   "outputs": [
    {
     "data": {
      "text/plain": [
       "Continent\n",
       "Africa           212\n",
       "Asia             180\n",
       "Europe           180\n",
       "North America    108\n",
       "Oceania           56\n",
       "South America     52\n",
       "Name: Continent, dtype: int64"
      ]
     },
     "execution_count": 135,
     "metadata": {},
     "output_type": "execute_result"
    }
   ],
   "source": [
    "# Count the number of countries in each continent, i.e. data is grouped by continent\n",
    "dfemissions.groupby('Continent')['Continent'].count()"
   ]
  },
  {
   "cell_type": "code",
   "execution_count": 136,
   "id": "79a7d8e6",
   "metadata": {},
   "outputs": [
    {
     "data": {
      "text/plain": [
       "Continent\n",
       "Africa           1.215859\n",
       "Asia             7.154809\n",
       "Europe           6.759568\n",
       "North America    5.790549\n",
       "Oceania          4.381733\n",
       "South America    4.513206\n",
       "Name: Emission, dtype: float64"
      ]
     },
     "execution_count": 136,
     "metadata": {},
     "output_type": "execute_result"
    }
   ],
   "source": [
    "# Calculate the mean emission in each continent, i.e. data grouped by continent, then fetch the 'Emission' column\n",
    "dfemissions.groupby('Continent')['Emission'].mean()"
   ]
  },
  {
   "cell_type": "markdown",
   "id": "60cf18c0",
   "metadata": {},
   "source": [
    "## Sorting\n",
    "\n",
    "The [```sort_values()```](https://pandas.pydata.org/docs/reference/api/pandas.DataFrame.sort_values.html) method sorts values of either axis specified by `by`. The attribute `ascending` is `True` by default."
   ]
  },
  {
   "cell_type": "markdown",
   "id": "102f3080",
   "metadata": {},
   "source": [
    "## To sort ascending by the citric acid."
   ]
  },
  {
   "cell_type": "code",
   "execution_count": 137,
   "id": "b00ab17d",
   "metadata": {},
   "outputs": [
    {
     "data": {
      "text/html": [
       "<div>\n",
       "<style scoped>\n",
       "    .dataframe tbody tr th:only-of-type {\n",
       "        vertical-align: middle;\n",
       "    }\n",
       "\n",
       "    .dataframe tbody tr th {\n",
       "        vertical-align: top;\n",
       "    }\n",
       "\n",
       "    .dataframe thead th {\n",
       "        text-align: right;\n",
       "    }\n",
       "</style>\n",
       "<table border=\"1\" class=\"dataframe\">\n",
       "  <thead>\n",
       "    <tr style=\"text-align: right;\">\n",
       "      <th></th>\n",
       "      <th>Year</th>\n",
       "      <th>Country</th>\n",
       "      <th>Continent</th>\n",
       "      <th>Emission</th>\n",
       "    </tr>\n",
       "  </thead>\n",
       "  <tbody>\n",
       "    <tr>\n",
       "      <th>592</th>\n",
       "      <td>2008</td>\n",
       "      <td>Qatar</td>\n",
       "      <td>Asia</td>\n",
       "      <td>48.601620</td>\n",
       "    </tr>\n",
       "    <tr>\n",
       "      <th>593</th>\n",
       "      <td>2009</td>\n",
       "      <td>Qatar</td>\n",
       "      <td>Asia</td>\n",
       "      <td>44.836401</td>\n",
       "    </tr>\n",
       "    <tr>\n",
       "      <th>595</th>\n",
       "      <td>2011</td>\n",
       "      <td>Qatar</td>\n",
       "      <td>Asia</td>\n",
       "      <td>44.018926</td>\n",
       "    </tr>\n",
       "    <tr>\n",
       "      <th>594</th>\n",
       "      <td>2010</td>\n",
       "      <td>Qatar</td>\n",
       "      <td>Asia</td>\n",
       "      <td>42.639076</td>\n",
       "    </tr>\n",
       "    <tr>\n",
       "      <th>710</th>\n",
       "      <td>2010</td>\n",
       "      <td>Trinidad And Tobago</td>\n",
       "      <td>North America</td>\n",
       "      <td>38.337841</td>\n",
       "    </tr>\n",
       "  </tbody>\n",
       "</table>\n",
       "</div>"
      ],
      "text/plain": [
       "     Year              Country      Continent   Emission\n",
       "592  2008                Qatar           Asia  48.601620\n",
       "593  2009                Qatar           Asia  44.836401\n",
       "595  2011                Qatar           Asia  44.018926\n",
       "594  2010                Qatar           Asia  42.639076\n",
       "710  2010  Trinidad And Tobago  North America  38.337841"
      ]
     },
     "execution_count": 137,
     "metadata": {},
     "output_type": "execute_result"
    }
   ],
   "source": [
    "dfemissions = dfemissions.sort_values(by='Emission', ascending=False)\n",
    "dfemissions.head()"
   ]
  },
  {
   "cell_type": "markdown",
   "id": "41801663",
   "metadata": {},
   "source": [
    "<div class=\"alert alert-info\">\n",
    "    <h4>Task 2.5</h4>\n",
    "</div>\n",
    "\n",
    "Sort the data `dfemissions` descendingly by `Continent` and then `Country`."
   ]
  },
  {
   "cell_type": "code",
   "execution_count": 139,
   "id": "8a72f9bb",
   "metadata": {},
   "outputs": [
    {
     "data": {
      "text/html": [
       "<div>\n",
       "<style scoped>\n",
       "    .dataframe tbody tr th:only-of-type {\n",
       "        vertical-align: middle;\n",
       "    }\n",
       "\n",
       "    .dataframe tbody tr th {\n",
       "        vertical-align: top;\n",
       "    }\n",
       "\n",
       "    .dataframe thead th {\n",
       "        text-align: right;\n",
       "    }\n",
       "</style>\n",
       "<table border=\"1\" class=\"dataframe\">\n",
       "  <thead>\n",
       "    <tr style=\"text-align: right;\">\n",
       "      <th></th>\n",
       "      <th>Year</th>\n",
       "      <th>Country</th>\n",
       "      <th>Continent</th>\n",
       "      <th>Emission</th>\n",
       "    </tr>\n",
       "  </thead>\n",
       "  <tbody>\n",
       "    <tr>\n",
       "      <th>735</th>\n",
       "      <td>2011</td>\n",
       "      <td>Uruguay</td>\n",
       "      <td>South America</td>\n",
       "      <td>2.296201</td>\n",
       "    </tr>\n",
       "    <tr>\n",
       "      <th>586</th>\n",
       "      <td>2010</td>\n",
       "      <td>Paraguay</td>\n",
       "      <td>South America</td>\n",
       "      <td>0.817267</td>\n",
       "    </tr>\n",
       "    <tr>\n",
       "      <th>733</th>\n",
       "      <td>2009</td>\n",
       "      <td>Uruguay</td>\n",
       "      <td>South America</td>\n",
       "      <td>2.401221</td>\n",
       "    </tr>\n",
       "    <tr>\n",
       "      <th>102</th>\n",
       "      <td>2010</td>\n",
       "      <td>Brazil</td>\n",
       "      <td>South America</td>\n",
       "      <td>2.113415</td>\n",
       "    </tr>\n",
       "    <tr>\n",
       "      <th>133</th>\n",
       "      <td>2009</td>\n",
       "      <td>Chile</td>\n",
       "      <td>South America</td>\n",
       "      <td>3.969434</td>\n",
       "    </tr>\n",
       "    <tr>\n",
       "      <th>...</th>\n",
       "      <td>...</td>\n",
       "      <td>...</td>\n",
       "      <td>...</td>\n",
       "      <td>...</td>\n",
       "    </tr>\n",
       "    <tr>\n",
       "      <th>191</th>\n",
       "      <td>2011</td>\n",
       "      <td>Djibouti</td>\n",
       "      <td>Africa</td>\n",
       "      <td>0.561941</td>\n",
       "    </tr>\n",
       "    <tr>\n",
       "      <th>645</th>\n",
       "      <td>2009</td>\n",
       "      <td>Sao Tome And Principe</td>\n",
       "      <td>Africa</td>\n",
       "      <td>0.548309</td>\n",
       "    </tr>\n",
       "    <tr>\n",
       "      <th>58</th>\n",
       "      <td>2010</td>\n",
       "      <td>Benin</td>\n",
       "      <td>Africa</td>\n",
       "      <td>0.541771</td>\n",
       "    </tr>\n",
       "    <tr>\n",
       "      <th>151</th>\n",
       "      <td>2011</td>\n",
       "      <td>Rep Of Congo</td>\n",
       "      <td>Africa</td>\n",
       "      <td>0.538098</td>\n",
       "    </tr>\n",
       "    <tr>\n",
       "      <th>50</th>\n",
       "      <td>2010</td>\n",
       "      <td>Burundi</td>\n",
       "      <td>Africa</td>\n",
       "      <td>0.020542</td>\n",
       "    </tr>\n",
       "  </tbody>\n",
       "</table>\n",
       "<p>788 rows × 4 columns</p>\n",
       "</div>"
      ],
      "text/plain": [
       "     Year                Country      Continent  Emission\n",
       "735  2011                Uruguay  South America  2.296201\n",
       "586  2010               Paraguay  South America  0.817267\n",
       "733  2009                Uruguay  South America  2.401221\n",
       "102  2010                 Brazil  South America  2.113415\n",
       "133  2009                  Chile  South America  3.969434\n",
       "..    ...                    ...            ...       ...\n",
       "191  2011               Djibouti         Africa  0.561941\n",
       "645  2009  Sao Tome And Principe         Africa  0.548309\n",
       "58   2010                  Benin         Africa  0.541771\n",
       "151  2011           Rep Of Congo         Africa  0.538098\n",
       "50   2010                Burundi         Africa  0.020542\n",
       "\n",
       "[788 rows x 4 columns]"
      ]
     },
     "execution_count": 139,
     "metadata": {},
     "output_type": "execute_result"
    }
   ],
   "source": [
    "# Your code goes here.\n",
    "dfemissions.sort_values(by='Continent',ascending=False)"
   ]
  },
  {
   "cell_type": "code",
   "execution_count": 140,
   "id": "a218d816",
   "metadata": {},
   "outputs": [
    {
     "data": {
      "text/html": [
       "<div>\n",
       "<style scoped>\n",
       "    .dataframe tbody tr th:only-of-type {\n",
       "        vertical-align: middle;\n",
       "    }\n",
       "\n",
       "    .dataframe tbody tr th {\n",
       "        vertical-align: top;\n",
       "    }\n",
       "\n",
       "    .dataframe thead th {\n",
       "        text-align: right;\n",
       "    }\n",
       "</style>\n",
       "<table border=\"1\" class=\"dataframe\">\n",
       "  <thead>\n",
       "    <tr style=\"text-align: right;\">\n",
       "      <th></th>\n",
       "      <th>Year</th>\n",
       "      <th>Country</th>\n",
       "      <th>Continent</th>\n",
       "      <th>Emission</th>\n",
       "    </tr>\n",
       "  </thead>\n",
       "  <tbody>\n",
       "    <tr>\n",
       "      <th>784</th>\n",
       "      <td>2008</td>\n",
       "      <td>Zimbabwe</td>\n",
       "      <td>Africa</td>\n",
       "      <td>0.569255</td>\n",
       "    </tr>\n",
       "    <tr>\n",
       "      <th>785</th>\n",
       "      <td>2009</td>\n",
       "      <td>Zimbabwe</td>\n",
       "      <td>Africa</td>\n",
       "      <td>0.600521</td>\n",
       "    </tr>\n",
       "    <tr>\n",
       "      <th>786</th>\n",
       "      <td>2010</td>\n",
       "      <td>Zimbabwe</td>\n",
       "      <td>Africa</td>\n",
       "      <td>0.646073</td>\n",
       "    </tr>\n",
       "    <tr>\n",
       "      <th>787</th>\n",
       "      <td>2011</td>\n",
       "      <td>Zimbabwe</td>\n",
       "      <td>Africa</td>\n",
       "      <td>0.691698</td>\n",
       "    </tr>\n",
       "    <tr>\n",
       "      <th>782</th>\n",
       "      <td>2010</td>\n",
       "      <td>Zambia</td>\n",
       "      <td>Africa</td>\n",
       "      <td>0.192079</td>\n",
       "    </tr>\n",
       "    <tr>\n",
       "      <th>...</th>\n",
       "      <td>...</td>\n",
       "      <td>...</td>\n",
       "      <td>...</td>\n",
       "      <td>...</td>\n",
       "    </tr>\n",
       "    <tr>\n",
       "      <th>18</th>\n",
       "      <td>2010</td>\n",
       "      <td>Albania</td>\n",
       "      <td>Europe</td>\n",
       "      <td>1.515632</td>\n",
       "    </tr>\n",
       "    <tr>\n",
       "      <th>9</th>\n",
       "      <td>2009</td>\n",
       "      <td>Afghanistan</td>\n",
       "      <td>Asia</td>\n",
       "      <td>0.249074</td>\n",
       "    </tr>\n",
       "    <tr>\n",
       "      <th>11</th>\n",
       "      <td>2011</td>\n",
       "      <td>Afghanistan</td>\n",
       "      <td>Asia</td>\n",
       "      <td>0.425262</td>\n",
       "    </tr>\n",
       "    <tr>\n",
       "      <th>8</th>\n",
       "      <td>2008</td>\n",
       "      <td>Afghanistan</td>\n",
       "      <td>Asia</td>\n",
       "      <td>0.158962</td>\n",
       "    </tr>\n",
       "    <tr>\n",
       "      <th>10</th>\n",
       "      <td>2010</td>\n",
       "      <td>Afghanistan</td>\n",
       "      <td>Asia</td>\n",
       "      <td>0.302936</td>\n",
       "    </tr>\n",
       "  </tbody>\n",
       "</table>\n",
       "<p>788 rows × 4 columns</p>\n",
       "</div>"
      ],
      "text/plain": [
       "     Year      Country Continent  Emission\n",
       "784  2008     Zimbabwe    Africa  0.569255\n",
       "785  2009     Zimbabwe    Africa  0.600521\n",
       "786  2010     Zimbabwe    Africa  0.646073\n",
       "787  2011     Zimbabwe    Africa  0.691698\n",
       "782  2010       Zambia    Africa  0.192079\n",
       "..    ...          ...       ...       ...\n",
       "18   2010      Albania    Europe  1.515632\n",
       "9    2009  Afghanistan      Asia  0.249074\n",
       "11   2011  Afghanistan      Asia  0.425262\n",
       "8    2008  Afghanistan      Asia  0.158962\n",
       "10   2010  Afghanistan      Asia  0.302936\n",
       "\n",
       "[788 rows x 4 columns]"
      ]
     },
     "execution_count": 140,
     "metadata": {},
     "output_type": "execute_result"
    }
   ],
   "source": [
    "dfemissions.sort_values(by='Country',ascending=False)"
   ]
  },
  {
   "cell_type": "markdown",
   "id": "f6dbb48b",
   "metadata": {},
   "source": [
    "<div class=\"alert alert-warning\">\n",
    "    <h4>Optional</h4>\n",
    "</div>\n",
    "\n",
    "To extend your knowledge and skills in NumPy and Pandas, here are some additional resources:\n",
    "- NumPy\n",
    "    - [Standard data types in NumPy](https://numpy.org/doc/stable/user/basics.types.html)\n",
    "    - [NumPy quickstart](https://numpy.org/doc/stable/user/quickstart.html#numpy-quickstart)\n",
    "    - [Introduction to NumPy](https://jakevdp.github.io/PythonDataScienceHandbook/02.00-introduction-to-numpy.html) in [Python Data Science Handbook](https://jakevdp.github.io/PythonDataScienceHandbook/)\n",
    "- Pandas\n",
    "    - [Learn Pandas Tutorial](https://www.kaggle.com/learn/pandas) in Kaggle (<i>highly recommend</i>)\n",
    "    - YouTube: <a href=\"https://www.youtube.com/watch?v=dcqPhpY7tWk\">What's Pandas?</a>\n",
    "    - <a href=\"https://www.youtube.com/watch?v=iGFdh6_FePU\">Pandas in 10 minutes</a>\n",
    "    - [Data Manipulation with Pandas](https://jakevdp.github.io/PythonDataScienceHandbook/03.00-introduction-to-pandas.html) in [Python Data Science Handbook](https://jakevdp.github.io/PythonDataScienceHandbook/)\n",
    "    \n",
    "<div class=\"alert alert-success\">\n",
    "    <h2>🍰 End</h2> \n",
    "</div>"
   ]
  }
 ],
 "metadata": {
  "kernelspec": {
   "display_name": "Python 3 (ipykernel)",
   "language": "python",
   "name": "python3"
  },
  "language_info": {
   "codemirror_mode": {
    "name": "ipython",
    "version": 3
   },
   "file_extension": ".py",
   "mimetype": "text/x-python",
   "name": "python",
   "nbconvert_exporter": "python",
   "pygments_lexer": "ipython3",
   "version": "3.11.5"
  },
  "toc": {
   "base_numbering": 1,
   "nav_menu": {},
   "number_sections": true,
   "sideBar": true,
   "skip_h1_title": false,
   "title_cell": "Table of Contents",
   "title_sidebar": "Contents",
   "toc_cell": false,
   "toc_position": {
    "height": "calc(100% - 180px)",
    "left": "10px",
    "top": "150px",
    "width": "303.865px"
   },
   "toc_section_display": true,
   "toc_window_display": true
  }
 },
 "nbformat": 4,
 "nbformat_minor": 5
}
