{
 "cells": [
  {
   "cell_type": "markdown",
   "id": "98d6452c",
   "metadata": {},
   "source": [
    "<h1><center>COMP1008: Exercise 0<br/><br/>Python and Jupyter Notebook<br/>Installation and Basics</center></h1>\n",
    "<!--\n",
    "<span hidden=true>\n",
    "\n",
    "WARNING - You should not be able to see this text. If you do, then chances are you have opened this as a text file; please revisit \"Lab0 - exercises\".pdf to install Python using Anaconda, open this file via the Jupyter Notebook user interface in Anaconda Navigator.\n",
    "\n",
    "If you have opened this in Jupyter Notebook and still see this, then you might be in the editor view of this cell. Click on this cell and press the \"Run\" button above (or press [CTRL] + [ENTER]).\n",
    "\n",
    "</span>\n",
    "-->\n",
    "This is a Jupyter Notebook, which consists of cells of two types: Markdown and Python code.\n",
    "\n",
    "This notebook has two parts. In the first part (<a href=\"#partone\">Part 1: Jupyter Notebook Navigation</a>) we will look at how we can navigate and interact with the editor, and in the second part (<a href=\"#parttwo\">Part 2: From C to Python</a>) we will look at some Python code. The purpose of the code example is to demonstrate the differences between C and Python which makes Python easier to write , and to show you all you need to understand from the language perspective to complete the exercises."
   ]
  },
  {
   "cell_type": "markdown",
   "id": "21bd5336",
   "metadata": {},
   "source": [
    "<div id=\"partone\"><h2><center>Part 1: Jupyter Notebook Navigation</center></h2></div>"
   ]
  },
  {
   "cell_type": "markdown",
   "id": "7c0b5ac9",
   "metadata": {},
   "source": [
    "Notebooks consist of a series of cells of two main types: *Markdown* cells, and *Code* cells. You can tell the cell type or change it in dropdown box in the tool-menu. The text you are reading now is in a *Markdown* cell, with a blank left-hand margin. The below cells with `In [ ]:` in the left-hand margin are *code* cells of Python code. We will only use these two types in COMP1008.\n",
    "\n",
    "![<h1>WARNING - If you can see this text then Jupyter Notebook could not locate the image that was supposed to be here. Ensure that in the folder of this notebook, you have the directory `img` of image files, which is provided in the \"Lab 0 exercise.zip\" package and re-run this cell.</h1>](img/cell-type.png)\n",
    "\n",
    "Code cells can be run by selecting them in command view and either pressing <kbd>SHIFT</kbd> and <kbd>ENTER</kbd>, or by pressing the run button from the toolbar.\n",
    "\n",
    "![Run botton in toolbar](img/run-toolbar.png)"
   ]
  },
  {
   "cell_type": "markdown",
   "id": "b32ab304",
   "metadata": {},
   "source": [
    "<div class=\"alert alert-info\">\n",
    "    <h4>Task 1: run Python code</h4>\n",
    "</div>\n",
    "\n",
    "Run the below two code cells and observe what happens."
   ]
  },
  {
   "cell_type": "code",
   "execution_count": 4,
   "id": "56d6f27d",
   "metadata": {},
   "outputs": [],
   "source": [
    "run_counter = 0\n",
    "msg_start = 'Here is a message from some code that I have run '"
   ]
  },
  {
   "cell_type": "markdown",
   "id": "581de9b0",
   "metadata": {},
   "source": [
    "The label in the left-margin now has been updated as `In [1]:` meaning that the code cell is the first piece of code that the current (interactive) Python kernel has run. The focus should have then moved down to the second code cell. "
   ]
  },
  {
   "cell_type": "code",
   "execution_count": 6,
   "id": "47caba13",
   "metadata": {
    "scrolled": false
   },
   "outputs": [
    {
     "name": "stdout",
     "output_type": "stream",
     "text": [
      "Here is a message from some code that I have run 2 times.\n"
     ]
    }
   ],
   "source": [
    "run_counter += 1\n",
    "msg_t = ' time.' if run_counter == 1 else ' times.'\n",
    "msg = msg_start + str(run_counter) + msg_t\n",
    "print(msg)"
   ]
  },
  {
   "cell_type": "markdown",
   "id": "925dd8fc",
   "metadata": {},
   "source": [
    "After running the second code cell, some text appears below the code.\n",
    "\n",
    "You can move up and down the notebook by clicking on the cell you are interested in. Alteratively, you can use the keyboard keys <kbd>↑</kbd> and <kbd>↓</kbd> to move the current selection up and down.\n",
    "\n",
    "Move back to the second code cell and run it again. Observe that running this cell produces some text output. The output of the second run replaces the first output. The label in the left-hand margin is updated with the times the Python kernel has run."
   ]
  },
  {
   "cell_type": "markdown",
   "id": "88da73d8",
   "metadata": {},
   "source": [
    "<div class=\"alert alert-info\">\n",
    "    <h4>Task 2: Cell manipulation</h4>\n",
    "</div>\n",
    "\n",
    "There are two different views of the cells: the editor view, and the command view. If the current cell has a green border, it's in the editor view. A cell with a blue accent to the left is in the command view. You can change from the editor view to command view by pressing the escape <kbd>ESC</kbd> key.\n",
    "\n",
    "Select this cell and ensure it's in the command view. Hit the <kbd>B</kbd> key or click \"+\" in the menu will create a new cell **b**elow the current cell. Hit <kbd>ENTER</kbd> to enter the *editor* view and write a simple hello world program using `print(...)` and run the program with <kbd>SHIFT</kbd> and <kbd>ENTER</kbd>."
   ]
  },
  {
   "cell_type": "code",
   "execution_count": null,
   "id": "44a91081",
   "metadata": {},
   "outputs": [],
   "source": [
    "print(\"Hello world\")"
   ]
  },
  {
   "cell_type": "markdown",
   "id": "12032dbc",
   "metadata": {},
   "source": [
    "You can remove a cell by selecting it in command view and pressing <kbd>X</kbd>. Try to remove the hello world code cell.\n",
    "If you accidentally delete a cell, you can recover the last deleted cell by pressing <kbd>Z</kbd> in command view."
   ]
  },
  {
   "cell_type": "markdown",
   "id": "15d89ced",
   "metadata": {},
   "source": [
    "### Markdown\n",
    "This cell is a markdown cell.\n",
    "\n",
    "<div class=\"alert alert-info\">\n",
    "    <h4>Task 5</h4>\n",
    "</div>\n",
    "\n",
    "Double click on this cell (or highlight this cell and press <kbd>ENTER</kbd> in command view) to enter the editor view.\n",
    "You should be able to see that there is very little markup needed to stylise the text. \n",
    "Have a look through this cell and identify how we can stylise:\n",
    " - [x] headings, \n",
    " - [x] lists, and\n",
    " - [x] code snippets.\n",
    "\n",
    "```\n",
    "def print_msg():\n",
    "    str = 'You can check the checkboxes by entering editor mode and replacing [ ] with [x]'\n",
    "    print(str)\n",
    "```"
   ]
  },
  {
   "cell_type": "markdown",
   "id": "f4ebda5b",
   "metadata": {},
   "source": [
    "<div class=\"alert alert-info\">\n",
    "    <h4>Task 3: Re-run and save the notebook</h4>\n",
    "</div>\n",
    "\n",
    "Re-running the notebook may resolve any issues you have when you have run something out of order and your code behaves in a way you didn't expect. You can do this by restarting the kernel. In the navigation menu, under `Kernel`, `Restart & Clear Output` will completely refresh the notebook, or `Restart and Run All` (or the ⏩ button) will refresh the notebook and re-run all cells.\n",
    "\n",
    "Try to re-run the notebook. Note that if you chose `Restart and Run All`, the code in Part 2 will have run as well. If you were trying to debug something, this might not be ideal. For now, choose `Restart & Clear Output`."
   ]
  },
  {
   "cell_type": "markdown",
   "id": "bf23caef",
   "metadata": {},
   "source": [
    "Fortunately, Jupyter Notebook has an autosave feature to save your work at regular intervals. Your OneDrive folder will also back up your work 😊 We should not solely rely on the autosave feature however. When you finish, **do not close your browser**. Save your work by `File > Save and Checkpoint`, or <kbd>CTRL</kbd> + <kbd>S</kbd>. You can now close your browser/tab and move on to the last part of this exercise which is to get familiar with the Python syntax so that next week we can move on to something more interesting!"
   ]
  },
  {
   "cell_type": "markdown",
   "id": "bbb53397",
   "metadata": {},
   "source": [
    "<div id=\"parttwo\"><h2><center>Part 2: From C to Python</center></h2></div>"
   ]
  },
  {
   "cell_type": "markdown",
   "id": "51b47414",
   "metadata": {},
   "source": [
    "In COMP1008 you will use Python to interface with some popular machine learning packages for completing the exercises and coursework. We will now look at how to write some simple programs in Python (in Jupyter Notebook form) to print out an inverted Pascal's triangle, and see the similarities and differences compared to C. We will point out what you will need to know about Python to complete the exercises and coursework in COMP1008."
   ]
  },
  {
   "cell_type": "markdown",
   "id": "ea797881",
   "metadata": {},
   "source": [
    "### Pascal's Triangle Revisited"
   ]
  },
  {
   "cell_type": "markdown",
   "id": "73b4842e",
   "metadata": {},
   "source": [
    "***Note that the focus here is on how you can use Python and not understanding how the code works!***\n",
    "We are simply using Python because the AI community has embraced Python. Many libraries/packages have already been tested for us to use, allowing us to focus on implementing tasks as opposed to programming skills!"
   ]
  },
  {
   "cell_type": "markdown",
   "id": "d98bc503",
   "metadata": {},
   "source": [
    "<div class=\"alert alert-info\">\n",
    "    <h4>Task A: An inverted Pascal's triangle in Python</h4>\n",
    "</div>\n",
    "\n",
    "Have a look at the code below, can you identify any control flow statements that you used in C?"
   ]
  },
  {
   "cell_type": "code",
   "execution_count": 1,
   "id": "f21e5c71",
   "metadata": {},
   "outputs": [],
   "source": [
    "import math\n",
    "\n",
    "def print_pascals_triangle(number_of_rows):\n",
    "    \n",
    "    init_strlen = 0  \n",
    "    for n in reversed(range(0,number_of_rows)):\n",
    "        \n",
    "        rowstr = \"\"\n",
    "        for k in range(0, n+1, 1):\n",
    "            \n",
    "            rowstr = rowstr + ' ' + str(math.comb(n,k))\n",
    "        \n",
    "        padding = math.floor((init_strlen - len(rowstr))/2)\n",
    "        padding = \" \"*padding\n",
    "        print(padding + rowstr)\n",
    "        if init_strlen == 0:\n",
    "            \n",
    "            init_strlen = len(rowstr)"
   ]
  },
  {
   "cell_type": "markdown",
   "id": "d5f2e26e",
   "metadata": {},
   "source": [
    "<div class=\"alert alert-info\">\n",
    "    <h4>Task B: Define a varibale and its scope</h4>\n",
    "</div>\n",
    "\n",
    "Try running the above code cell. Note that there is no output as we only defined a method. \n",
    "\n",
    "Now run the code cell below. Note that you can now run the below code cell even though `print_pascals_triangle` is not defined within the same code cell. This is because any definitions of methods and global variables are remembered by the Jupyter kernel."
   ]
  },
  {
   "cell_type": "code",
   "execution_count": 2,
   "id": "613425ec",
   "metadata": {},
   "outputs": [
    {
     "name": "stdout",
     "output_type": "stream",
     "text": [
      " 1 14 91 364 1001 2002 3003 3432 3003 2002 1001 364 91 14 1\n",
      "    1 13 78 286 715 1287 1716 1716 1287 715 286 78 13 1\n",
      "        1 12 66 220 495 792 924 792 495 220 66 12 1\n",
      "          1 11 55 165 330 462 462 330 165 55 11 1\n",
      "            1 10 45 120 210 252 210 120 45 10 1\n",
      "                1 9 36 84 126 126 84 36 9 1\n",
      "                   1 8 28 56 70 56 28 8 1\n",
      "                    1 7 21 35 35 21 7 1\n",
      "                      1 6 15 20 15 6 1\n",
      "                       1 5 10 10 5 1\n",
      "                         1 4 6 4 1\n",
      "                          1 3 3 1\n",
      "                           1 2 1\n",
      "                            1 1\n",
      "                             1\n"
     ]
    }
   ],
   "source": [
    "print_pascals_triangle(15)"
   ]
  },
  {
   "cell_type": "markdown",
   "id": "e0f8a1f3",
   "metadata": {},
   "source": [
    "Now try to run the below code cell."
   ]
  },
  {
   "cell_type": "code",
   "execution_count": 7,
   "id": "5331e2d0",
   "metadata": {
    "scrolled": true
   },
   "outputs": [
    {
     "name": "stdout",
     "output_type": "stream",
     "text": [
      " 1 1\n",
      "  1\n"
     ]
    }
   ],
   "source": [
    "print_pascals_triangle(run_counter)"
   ]
  },
  {
   "cell_type": "markdown",
   "id": "b2411e42",
   "metadata": {},
   "source": [
    "This produces an error, as it cannot find the variable `run_counter`. When we restarted the kernel, the previous values stored were cleared. Go back to the beginning of the notebook, where `run_counter` was first defined, and rerun the two cells. Re-try running the `print_pascals_triangle(run_counter)` cell above. It should now work.\n",
    "- `print_pascals_triangle` comes from the code cell above.\n",
    "- `run_counter` is an integer variable which was remembered from the very first code cell in this notebook.\n",
    "\n",
    "Run the `run_counter` code cell in Task 1 a few more times, and run the above code cell again. Note that the value of `run_counter` has been updated and we now get a larger triangle.\n",
    "\n",
    "***Be careful with your variable names as you may unintentially redefine and/or overwrite a previously defined variable that you used elsewhere. Variables are unique names pointing to memory. The same name (within the scope) will point to the same memory.***"
   ]
  },
  {
   "cell_type": "markdown",
   "id": "b7219765",
   "metadata": {},
   "source": [
    "<div class=\"alert alert-info\">\n",
    "    <h4>Task C: The inverted Pascal's triangle in Python vs. C</h4>\n",
    "</div>\n",
    "\n",
    "The code below is the same as that above but with comments explaining the Python syntax. After this is a list of detailed explanations of the different language constructs in the Python code example."
   ]
  },
  {
   "cell_type": "code",
   "execution_count": null,
   "id": "46afab0c",
   "metadata": {},
   "outputs": [],
   "source": [
    "# Libraries are imported in Python using the import syntax. This is similar to #include in C\n",
    "# The `math` package is needed for predfined functions `comb` and `floor`\n",
    "# `comb` in Python is the same as `ncr` (or \"n choose k\") in C\n",
    "import math\n",
    "\n",
    "# Define a new method to print the first `number_of_rows` rows of the pascals triangle\n",
    "def print_pascals_triangle(number_of_rows):\n",
    "    \n",
    "    # To remember this to work out amount of left-padding per row\n",
    "    # Note that there is no need to specify a type; Python works this out for us!\n",
    "    init_strlen = 0\n",
    "    \n",
    "    # In Python, we need range in for loops, to do something for each value in the range of integers \n",
    "    # from `0` (inclusive) to `number_of_rows` (exclusive).\n",
    "    # This example uses the reversed range to print the triangle upside down\n",
    "    for n in reversed(range(0,number_of_rows)):\n",
    "        \n",
    "        # Define a empty string. Note that we do not need to terminate it with '\\0'\n",
    "        rowstr = \"\"\n",
    "        \n",
    "        # In this for loop in Python, the third parameter means to increment by 1.\n",
    "        # We can use other numbers like 2 or 0.1.\n",
    "        for k in range(0, n+1, 1):\n",
    "            \n",
    "            # Append a space and the next value to the current row using concatenation\n",
    "            # Also calls a function `comb` in the math library\n",
    "            rowstr = rowstr + ' ' + str(math.comb(n,k))\n",
    "        \n",
    "        # Calculate the amount of padding needed for centering\n",
    "        padding = math.floor((init_strlen - len(rowstr))/2)\n",
    "        \n",
    "        # Replicate the space character `padding` number of times by using the '*' operator.\n",
    "        # '*' is not a pointer repeat the string by a number of times defined by the integer.\n",
    "        padding = \" \"*padding\n",
    "        \n",
    "        print(padding + rowstr)\n",
    "        \n",
    "        # Housekeeping for calculating the padding\n",
    "        if init_strlen == 0:\n",
    "            init_strlen = len(rowstr)\n",
    "\n",
    "# Call `print_pascals_triangle`\n",
    "print_pascals_triangle(15)"
   ]
  },
  {
   "cell_type": "markdown",
   "id": "793cbefd",
   "metadata": {},
   "source": [
    "Below is a detailed explanation of the different language constructs in the above Python code example. Have a read of thiese these to understand how Python code is written. This should be useful for completing exercises and coursework in COMP1008!\n",
    "\n",
    "#### Importing Libraries\n",
    "In C, code defined elsewhere is reused by including a header file, e.g. `#include <math.h>`. It's similar in Python, but with `import math`. To use a method defined in the math package, we say `math.method_name(...)`.\n",
    "\n",
    "#### Function Declarations\n",
    "Functions can be declared similarly to C, using `def`, but we do not need to specify the return type! In the above code, a function is declared by `def print_pascals_triangle(number_of_rows):`, with parameters *without types*, and ending with a colon. Curly brackets are not used in Python. Python uses indentation to say where code blocks belong.\n",
    "\n",
    "Try indenting (single tab) the final line of code in the above example. Re-run the code cell don't get an error, but no output either. This is because the call to the function now belongs to the code block of above function. When we run the revised code, we actually redefined the function rather than call the function.\n",
    "\n",
    "#### Dynamic Type Systems\n",
    "C is known as a statically typed language. We have to prescribe variable's type. This is not the case in Python, which is dynamically typed. In Python you do not need to be explicit about the types of variables. For example, Python interprets `init_strlen = 0` as an integer. Being dynamic, however, means that the type can change over time but understanding this is more than we need for COMP1008.\n",
    "\n",
    "#### For-Each Loops\n",
    "In C, `for(i = 0; i < n; i++) { ... }` loops over something `n` times. In Python for loop, we loop over an existing list or range, as:\n",
    "\n",
    "```\n",
    "for i in range(0,n):\n",
    "    ...\n",
    "```\n",
    "or\n",
    "```\n",
    "items = ['a','b','c']\n",
    "for item in items:\n",
    "    ...\n",
    "```\n",
    "\n",
    "#### If Statements\n",
    "If statement in Python works the same as in C, but with some syntactic differences. In the above example code:\n",
    "\n",
    "```\n",
    "// In C\n",
    "if(init_strlen == 0) {\n",
    "    ...\n",
    "}\n",
    "\n",
    "# In Python\n",
    "if init_strlen == 0:\n",
    "    ...\n",
    "```\n",
    "\n",
    "An if-elseif-else statement looks like this:\n",
    "\n",
    "```\n",
    "// In C\n",
    "int n = ...;\n",
    "if(n == 0) {\n",
    "    ...\n",
    "} else if( n % 2 == 0) {\n",
    "    ...\n",
    "} else {\n",
    "    ...\n",
    "}\n",
    "\n",
    "# In Python\n",
    "n = ...\n",
    "if n == 0:\n",
    "    ...\n",
    "elif n % 2 == 0:\n",
    "    ...\n",
    "else:\n",
    "    ...\n",
    "```\n",
    "\n",
    "#### Strings \n",
    "In Python, a string is a sequence of characters enclosed in single quotes. Unlike in C, we do not need to terminate this with a null byte. Python strings behave similarly to lists. We could individually index or loop over the characters in the string. \n",
    "\n",
    "```\n",
    "msg = 'abcde'\n",
    "for c in range(0,len(msg)):\n",
    "    print(c + msg[c])\n",
    "```\n",
    "\n",
    "#### String Concatenation\n",
    "We can only concatenate strings, i.e. not with an integer. The above code `math.comb(n,k)` returns an integer. We used `str(math.comb(n,k))`, to explicitly convert it to a string, before concatenating it with the other two strings.\n",
    "\n",
    "\n",
    "#### Standard Output\n",
    "We just use the function `print(msg)` to print the message to the standard output. A new line is automatically added to the output `msg`."
   ]
  },
  {
   "cell_type": "markdown",
   "id": "5f6036b6",
   "metadata": {},
   "source": [
    "<div class=\"alert alert-info\">\n",
    "    <h4>Task D: Lists and Slicing</h4>\n",
    "</div>\n",
    "\n",
    "Lists in Python are also much easier than arrays in C 🥳: no need to deal with pointers. Manipulating lists and multi-dimensional lists is safer.\n",
    "\n",
    "Try to define a list in the below code cell."
   ]
  },
  {
   "cell_type": "code",
   "execution_count": 8,
   "id": "a522d4e2",
   "metadata": {},
   "outputs": [],
   "source": [
    "lst = [0,1,2,3,4]"
   ]
  },
  {
   "cell_type": "code",
   "execution_count": 9,
   "id": "196a50e8",
   "metadata": {},
   "outputs": [
    {
     "name": "stdout",
     "output_type": "stream",
     "text": [
      "[0, 1, 2, 3, 4]\n"
     ]
    }
   ],
   "source": [
    "print(lst)"
   ]
  },
  {
   "cell_type": "markdown",
   "id": "689675e0",
   "metadata": {},
   "source": [
    "We can perform list operations such as indexing and reversal.\n",
    "\n",
    "Indexing a list is the same as arrays in C, as follows:"
   ]
  },
  {
   "cell_type": "code",
   "execution_count": 10,
   "id": "fa4a4ca4",
   "metadata": {},
   "outputs": [
    {
     "name": "stdout",
     "output_type": "stream",
     "text": [
      "0\n",
      "1\n",
      "2\n",
      "3\n",
      "4\n"
     ]
    }
   ],
   "source": [
    "for i in [0,1,2,3,4]:\n",
    "    print(lst[i])"
   ]
  },
  {
   "cell_type": "markdown",
   "id": "27955517",
   "metadata": {},
   "source": [
    "We can also slice (take a segment of) the list using a colon <kbd>:</kbd> within the square brackets as follows:"
   ]
  },
  {
   "cell_type": "code",
   "execution_count": 11,
   "id": "782b2492",
   "metadata": {},
   "outputs": [
    {
     "name": "stdout",
     "output_type": "stream",
     "text": [
      "[0]\n"
     ]
    }
   ],
   "source": [
    "# slices the list starting at 0 inclusive and ending and 1 exclusive \n",
    "lst_head = lst[0:1]\n",
    "print(lst_head)"
   ]
  },
  {
   "cell_type": "code",
   "execution_count": 12,
   "id": "3287347c",
   "metadata": {},
   "outputs": [
    {
     "name": "stdout",
     "output_type": "stream",
     "text": [
      "[1, 2, 3, 4]\n"
     ]
    }
   ],
   "source": [
    "# slices the list starting at index 1 inclusive and ending at the end.\n",
    "lst_tail = lst[1:]\n",
    "print(lst_tail)"
   ]
  },
  {
   "cell_type": "code",
   "execution_count": 13,
   "id": "7fbdf10f",
   "metadata": {},
   "outputs": [
    {
     "name": "stdout",
     "output_type": "stream",
     "text": [
      "[1, 2, 3]\n"
     ]
    }
   ],
   "source": [
    "# slices the list from index 1 inclusive and ending at the list length exclusive.\n",
    "afterfirst = 1\n",
    "beforelast = len(lst)-1\n",
    "lst_centre = lst[afterfirst:beforelast]\n",
    "print(lst_centre)"
   ]
  },
  {
   "cell_type": "code",
   "execution_count": 14,
   "id": "a9a1f131",
   "metadata": {},
   "outputs": [
    {
     "name": "stdout",
     "output_type": "stream",
     "text": [
      "[0, 2, 4]\n"
     ]
    }
   ],
   "source": [
    "odds_lst = lst[::2]\n",
    "print(odds_lst)"
   ]
  },
  {
   "cell_type": "markdown",
   "id": "4503d111",
   "metadata": {},
   "source": [
    "When performing list slicing, the syntax lst[begin:end:step] `lst[::2]` simply said to list every second element of the list (index [0], [2] and [4])."
   ]
  },
  {
   "cell_type": "code",
   "execution_count": 15,
   "id": "c76cd168",
   "metadata": {},
   "outputs": [
    {
     "name": "stdout",
     "output_type": "stream",
     "text": [
      "[4, 3, 2, 1, 0]\n"
     ]
    }
   ],
   "source": [
    "rev_lst = lst[::-1]\n",
    "print(rev_lst)"
   ]
  },
  {
   "cell_type": "markdown",
   "id": "0c19ef92",
   "metadata": {},
   "source": [
    "`lst[::-1]` of a negative step returns the same list since the step size is 1, but reverses the order. What does the below list operation do?"
   ]
  },
  {
   "cell_type": "code",
   "execution_count": 16,
   "id": "1e631e42",
   "metadata": {},
   "outputs": [
    {
     "name": "stdout",
     "output_type": "stream",
     "text": [
      "[4, 2, 0]\n"
     ]
    }
   ],
   "source": [
    "rev_evens_lst = lst[::-2]\n",
    "print(rev_evens_lst)"
   ]
  },
  {
   "cell_type": "markdown",
   "id": "a35d9228",
   "metadata": {},
   "source": [
    "<div class=\"alert alert-info\">\n",
    "    <h4>Task E: Matrice operation</h4>\n",
    "</div>\n",
    "\n",
    "These work the same as above but notice that when indexing a 2D list, we get a 1D list back."
   ]
  },
  {
   "cell_type": "code",
   "execution_count": 17,
   "id": "cd50792a",
   "metadata": {},
   "outputs": [
    {
     "name": "stdout",
     "output_type": "stream",
     "text": [
      "[[1.1, 1.2, 1.3], [2.1, 2.2, 2.3], [3.1, 3.2, 3.3]]\n"
     ]
    }
   ],
   "source": [
    "# define a 3x3 matrix\n",
    "mtx = [\n",
    "    [1.1,1.2,1.3],\n",
    "    [2.1,2.2,2.3],\n",
    "    [3.1,3.2,3.3]\n",
    "]\n",
    "\n",
    "print(mtx)"
   ]
  },
  {
   "cell_type": "code",
   "execution_count": 20,
   "id": "d8596ef8",
   "metadata": {},
   "outputs": [
    {
     "data": {
      "text/plain": [
       "2.3"
      ]
     },
     "execution_count": 20,
     "metadata": {},
     "output_type": "execute_result"
    }
   ],
   "source": [
    "# get the third value of the second row\n",
    "mtx[1][2]"
   ]
  },
  {
   "cell_type": "markdown",
   "id": "d1012a14",
   "metadata": {},
   "source": [
    "This concludes this week's exercise!\n",
    "\n",
    "We hope that you now understand how to use Anaconda Navigator, Jupyter Notebook, and are confident with using Python. Lab 1 exercises will introduce you to two new libraries: NumPy and pandas which implement various mathematical and data analysis methods for the following exercises and in the coursework!\n",
    "\n",
    "<div class=\"alert alert-success\">\n",
    "    <h2>🍰 End</h2> \n",
    "</div>"
   ]
  }
 ],
 "metadata": {
  "kernelspec": {
   "display_name": "Python 3 (ipykernel)",
   "language": "python",
   "name": "python3"
  },
  "language_info": {
   "codemirror_mode": {
    "name": "ipython",
    "version": 3
   },
   "file_extension": ".py",
   "mimetype": "text/x-python",
   "name": "python",
   "nbconvert_exporter": "python",
   "pygments_lexer": "ipython3",
   "version": "3.11.5"
  }
 },
 "nbformat": 4,
 "nbformat_minor": 5
}
