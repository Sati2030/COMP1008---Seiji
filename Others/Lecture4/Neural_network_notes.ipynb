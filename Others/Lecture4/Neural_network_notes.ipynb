{
 "cells": [
  {
   "cell_type": "markdown",
   "id": "1ede9d2f",
   "metadata": {},
   "source": [
    "# Implementation of Neural Network from the lecture"
   ]
  },
  {
   "cell_type": "markdown",
   "id": "f2344a42",
   "metadata": {},
   "source": [
    "## Import necessary libraries"
   ]
  },
  {
   "cell_type": "code",
   "execution_count": 28,
   "id": "1691372a",
   "metadata": {},
   "outputs": [],
   "source": [
    "import pandas as pd\n",
    "import matplotlib.pyplot as plt\n",
    "from sklearn.datasets import fetch_openml\n",
    "from sklearn.model_selection import train_test_split,cross_val_score"
   ]
  },
  {
   "cell_type": "markdown",
   "id": "a6a86b60",
   "metadata": {},
   "source": [
    "## Fetch a database and prepare it\n",
    "\n",
    "In this case we are using the \"titanic\" database of survival or no survival"
   ]
  },
  {
   "cell_type": "code",
   "execution_count": 29,
   "id": "2dd9ff41",
   "metadata": {},
   "outputs": [],
   "source": [
    "df_X,df_y = fetch_openml(\"titanic\",version=1, return_X_y=True, parser='auto')"
   ]
  },
  {
   "cell_type": "markdown",
   "id": "d46eba96",
   "metadata": {},
   "source": [
    "### Set the strings to integers"
   ]
  },
  {
   "cell_type": "code",
   "execution_count": 30,
   "id": "18f9a658",
   "metadata": {},
   "outputs": [],
   "source": [
    "df_X['embarked'] = pd.factorize(df_X['embarked'])[0]\n",
    "df_X['sex'] = pd.factorize(df_X['sex'])[0]"
   ]
  },
  {
   "cell_type": "markdown",
   "id": "85d27c9e",
   "metadata": {},
   "source": [
    "### Drop unecessary features"
   ]
  },
  {
   "cell_type": "code",
   "execution_count": 31,
   "id": "3d8f085f",
   "metadata": {},
   "outputs": [],
   "source": [
    "df_X = df_X.drop(['name','body','ticket','cabin','home.dest','boat'],axis=1)"
   ]
  },
  {
   "cell_type": "markdown",
   "id": "017d0080",
   "metadata": {},
   "source": [
    "### Fill NULL values"
   ]
  },
  {
   "cell_type": "code",
   "execution_count": 32,
   "id": "a22be41e",
   "metadata": {},
   "outputs": [],
   "source": [
    "embarkedMode = df_X['embarked'].mode()\n",
    "df_X['embarked'] = df_X['embarked'].fillna(embarkedMode)\n",
    "df_X['fare'] = df_X['fare'].fillna(df_X['fare'].mean())\n",
    "df_X['age'] = df_X['age'].fillna(df_X['age'].mean())"
   ]
  },
  {
   "cell_type": "markdown",
   "id": "0151d7c7",
   "metadata": {},
   "source": [
    "## Split the the training and testing data "
   ]
  },
  {
   "cell_type": "code",
   "execution_count": 33,
   "id": "f141f2cf",
   "metadata": {},
   "outputs": [],
   "source": [
    "X_train,X_test,y_train,y_test = train_test_split(df_X,df_y,test_size=0.3)"
   ]
  },
  {
   "cell_type": "markdown",
   "id": "899390aa",
   "metadata": {},
   "source": [
    "## Import and set the model up\n",
    "\n",
    "- hidde_layer_size = defines how many number neurons are going to be in the hidden layer (in this example in the first hidden layer we have \"3\" neurons, in the second hidden layer we have \"6\" neurons).\n",
    "\n",
    "- max_iter = sets how many iterations its going to go through to train. (Stops at 3000 iterations because ANN can take a long time compared to other machine learning models)"
   ]
  },
  {
   "cell_type": "code",
   "execution_count": 34,
   "id": "407af73c",
   "metadata": {},
   "outputs": [],
   "source": [
    "from sklearn.neural_network import MLPClassifier\n",
    "mlp = MLPClassifier(hidden_layer_sizes=(3,6),max_iter=3000)"
   ]
  },
  {
   "cell_type": "code",
   "execution_count": 35,
   "id": "ae01bbd7",
   "metadata": {},
   "outputs": [
    {
     "data": {
      "text/html": [
       "<style>#sk-container-id-1 {color: black;}#sk-container-id-1 pre{padding: 0;}#sk-container-id-1 div.sk-toggleable {background-color: white;}#sk-container-id-1 label.sk-toggleable__label {cursor: pointer;display: block;width: 100%;margin-bottom: 0;padding: 0.3em;box-sizing: border-box;text-align: center;}#sk-container-id-1 label.sk-toggleable__label-arrow:before {content: \"▸\";float: left;margin-right: 0.25em;color: #696969;}#sk-container-id-1 label.sk-toggleable__label-arrow:hover:before {color: black;}#sk-container-id-1 div.sk-estimator:hover label.sk-toggleable__label-arrow:before {color: black;}#sk-container-id-1 div.sk-toggleable__content {max-height: 0;max-width: 0;overflow: hidden;text-align: left;background-color: #f0f8ff;}#sk-container-id-1 div.sk-toggleable__content pre {margin: 0.2em;color: black;border-radius: 0.25em;background-color: #f0f8ff;}#sk-container-id-1 input.sk-toggleable__control:checked~div.sk-toggleable__content {max-height: 200px;max-width: 100%;overflow: auto;}#sk-container-id-1 input.sk-toggleable__control:checked~label.sk-toggleable__label-arrow:before {content: \"▾\";}#sk-container-id-1 div.sk-estimator input.sk-toggleable__control:checked~label.sk-toggleable__label {background-color: #d4ebff;}#sk-container-id-1 div.sk-label input.sk-toggleable__control:checked~label.sk-toggleable__label {background-color: #d4ebff;}#sk-container-id-1 input.sk-hidden--visually {border: 0;clip: rect(1px 1px 1px 1px);clip: rect(1px, 1px, 1px, 1px);height: 1px;margin: -1px;overflow: hidden;padding: 0;position: absolute;width: 1px;}#sk-container-id-1 div.sk-estimator {font-family: monospace;background-color: #f0f8ff;border: 1px dotted black;border-radius: 0.25em;box-sizing: border-box;margin-bottom: 0.5em;}#sk-container-id-1 div.sk-estimator:hover {background-color: #d4ebff;}#sk-container-id-1 div.sk-parallel-item::after {content: \"\";width: 100%;border-bottom: 1px solid gray;flex-grow: 1;}#sk-container-id-1 div.sk-label:hover label.sk-toggleable__label {background-color: #d4ebff;}#sk-container-id-1 div.sk-serial::before {content: \"\";position: absolute;border-left: 1px solid gray;box-sizing: border-box;top: 0;bottom: 0;left: 50%;z-index: 0;}#sk-container-id-1 div.sk-serial {display: flex;flex-direction: column;align-items: center;background-color: white;padding-right: 0.2em;padding-left: 0.2em;position: relative;}#sk-container-id-1 div.sk-item {position: relative;z-index: 1;}#sk-container-id-1 div.sk-parallel {display: flex;align-items: stretch;justify-content: center;background-color: white;position: relative;}#sk-container-id-1 div.sk-item::before, #sk-container-id-1 div.sk-parallel-item::before {content: \"\";position: absolute;border-left: 1px solid gray;box-sizing: border-box;top: 0;bottom: 0;left: 50%;z-index: -1;}#sk-container-id-1 div.sk-parallel-item {display: flex;flex-direction: column;z-index: 1;position: relative;background-color: white;}#sk-container-id-1 div.sk-parallel-item:first-child::after {align-self: flex-end;width: 50%;}#sk-container-id-1 div.sk-parallel-item:last-child::after {align-self: flex-start;width: 50%;}#sk-container-id-1 div.sk-parallel-item:only-child::after {width: 0;}#sk-container-id-1 div.sk-dashed-wrapped {border: 1px dashed gray;margin: 0 0.4em 0.5em 0.4em;box-sizing: border-box;padding-bottom: 0.4em;background-color: white;}#sk-container-id-1 div.sk-label label {font-family: monospace;font-weight: bold;display: inline-block;line-height: 1.2em;}#sk-container-id-1 div.sk-label-container {text-align: center;}#sk-container-id-1 div.sk-container {/* jupyter's `normalize.less` sets `[hidden] { display: none; }` but bootstrap.min.css set `[hidden] { display: none !important; }` so we also need the `!important` here to be able to override the default hidden behavior on the sphinx rendered scikit-learn.org. See: https://github.com/scikit-learn/scikit-learn/issues/21755 */display: inline-block !important;position: relative;}#sk-container-id-1 div.sk-text-repr-fallback {display: none;}</style><div id=\"sk-container-id-1\" class=\"sk-top-container\"><div class=\"sk-text-repr-fallback\"><pre>MLPClassifier(hidden_layer_sizes=(3, 6), max_iter=3000)</pre><b>In a Jupyter environment, please rerun this cell to show the HTML representation or trust the notebook. <br />On GitHub, the HTML representation is unable to render, please try loading this page with nbviewer.org.</b></div><div class=\"sk-container\" hidden><div class=\"sk-item\"><div class=\"sk-estimator sk-toggleable\"><input class=\"sk-toggleable__control sk-hidden--visually\" id=\"sk-estimator-id-1\" type=\"checkbox\" checked><label for=\"sk-estimator-id-1\" class=\"sk-toggleable__label sk-toggleable__label-arrow\">MLPClassifier</label><div class=\"sk-toggleable__content\"><pre>MLPClassifier(hidden_layer_sizes=(3, 6), max_iter=3000)</pre></div></div></div></div></div>"
      ],
      "text/plain": [
       "MLPClassifier(hidden_layer_sizes=(3, 6), max_iter=3000)"
      ]
     },
     "execution_count": 35,
     "metadata": {},
     "output_type": "execute_result"
    }
   ],
   "source": [
    "mlp.fit(X_train,y_train)"
   ]
  },
  {
   "cell_type": "markdown",
   "id": "4eb6319c",
   "metadata": {},
   "source": [
    "## Test the model"
   ]
  },
  {
   "cell_type": "markdown",
   "id": "d47b9452",
   "metadata": {},
   "source": [
    "### Predict labels from X_test"
   ]
  },
  {
   "cell_type": "code",
   "execution_count": 37,
   "id": "af87074c",
   "metadata": {},
   "outputs": [],
   "source": [
    "from sklearn import metrics\n",
    "y_pred = mlp.predict(X_test)"
   ]
  },
  {
   "cell_type": "markdown",
   "id": "8489dfc6",
   "metadata": {},
   "source": [
    "### Compare with actual labels\n",
    "\n",
    "Will print out the percentage of accuracy"
   ]
  },
  {
   "cell_type": "code",
   "execution_count": 39,
   "id": "561fd67b",
   "metadata": {},
   "outputs": [
    {
     "name": "stdout",
     "output_type": "stream",
     "text": [
      "0.7786259541984732\n"
     ]
    }
   ],
   "source": [
    "print(metrics.accuracy_score(y_test,y_pred))"
   ]
  },
  {
   "cell_type": "markdown",
   "id": "288940ca",
   "metadata": {},
   "source": [
    "## Cross-validation\n",
    "\n",
    "To remove any bias"
   ]
  },
  {
   "cell_type": "code",
   "execution_count": 40,
   "id": "6e4d0e87",
   "metadata": {},
   "outputs": [
    {
     "ename": "NameError",
     "evalue": "name 'data' is not defined",
     "output_type": "error",
     "traceback": [
      "\u001b[0;31m---------------------------------------------------------------------------\u001b[0m",
      "\u001b[0;31mNameError\u001b[0m                                 Traceback (most recent call last)",
      "Cell \u001b[0;32mIn[40], line 1\u001b[0m\n\u001b[0;32m----> 1\u001b[0m acc_ann \u001b[38;5;241m=\u001b[39m cross_val_score(mlp,data,target,cv\u001b[38;5;241m=\u001b[39m\u001b[38;5;241m5\u001b[39m,scoring\u001b[38;5;241m=\u001b[39m\u001b[38;5;124m'\u001b[39m\u001b[38;5;124macuracy\u001b[39m\u001b[38;5;124m'\u001b[39m)\u001b[38;5;241m.\u001b[39mmean()\n",
      "\u001b[0;31mNameError\u001b[0m: name 'data' is not defined"
     ]
    }
   ],
   "source": [
    "acc_ann = cross_val_score(mlp,data,target,cv=5,scoring='acuracy').mean()"
   ]
  },
  {
   "cell_type": "markdown",
   "id": "3c4015fd",
   "metadata": {},
   "source": [
    "## Interpretation\n",
    "\n",
    "This will show us different things:"
   ]
  },
  {
   "cell_type": "code",
   "execution_count": 42,
   "id": "c8c8426f",
   "metadata": {},
   "outputs": [
    {
     "name": "stdout",
     "output_type": "stream",
     "text": [
      "Number of outputs: 1\n",
      "Weights between input and first hidden layer: [[-1.74602240e-01  4.42933489e-01  6.62813846e-01]\n",
      " [-2.44609962e+00  1.12910716e+00  1.71526832e+00]\n",
      " [-6.45873057e-01 -6.52683589e-01  1.46164097e-02]\n",
      " [-6.21580974e-01 -7.75215472e-02  1.45519463e-01]\n",
      " [ 1.62749861e-01  5.56417145e-01  2.68614548e-02]\n",
      " [ 4.45989004e-02  4.61942274e-02 -3.55002218e-04]\n",
      " [-1.17333365e-01  1.77068785e-01 -7.81164259e-02]]\n",
      "Weights between last hidden layer and output layer: [[ 2.22867459]\n",
      " [ 0.11754055]\n",
      " [-0.53444346]\n",
      " [ 0.58143952]\n",
      " [ 2.15953758]\n",
      " [-0.69595709]]\n"
     ]
    }
   ],
   "source": [
    "print(\"Number of outputs:\",mlp.n_outputs_)\n",
    "print(\"Weights between input and first hidden layer:\",mlp.coefs_[0])\n",
    "print(\"Weights between last hidden layer and output layer:\",mlp.coefs_[-1])"
   ]
  },
  {
   "cell_type": "markdown",
   "id": "c3d04bc7",
   "metadata": {},
   "source": [
    "### Using confusion matrix"
   ]
  },
  {
   "cell_type": "code",
   "execution_count": 46,
   "id": "b3e4de1c",
   "metadata": {},
   "outputs": [
    {
     "data": {
      "image/png": "[encoded data removed]",
      "text/plain": [
       "<Figure size 640x480 with 1 Axes>"
      ]
     },
     "metadata": {},
     "output_type": "display_data"
    }
   ],
   "source": [
    "from sklearn.metrics import confusion_matrix\n",
    "cm_dt = confusion_matrix(y_test,y_pred)\n",
    "cm_dt\n",
    "\n",
    "import seaborn as sns\n",
    "sns.heatmap(cm_dt, annot=True, fmt='d', cmap='Greens', cbar=False,\n",
    "            xticklabels=['Not survived', 'Survived'],\n",
    "            yticklabels=['Not Survived', 'Survived'])\n",
    "\n",
    "plt.title('Confusion Matrix')\n",
    "plt.xlabel('Predicted')\n",
    "plt.ylabel('Actual')\n",
    "plt.show()"
   ]
  },
  {
   "cell_type": "code",
   "execution_count": null,
   "id": "369fd5ad",
   "metadata": {},
   "outputs": [],
   "source": []
  },
  {
   "cell_type": "code",
   "execution_count": null,
   "id": "483f03b1",
   "metadata": {},
   "outputs": [],
   "source": []
  }
 ],
 "metadata": {
  "kernelspec": {
   "display_name": "Python 3 (ipykernel)",
   "language": "python",
   "name": "python3"
  },
  "language_info": {
   "codemirror_mode": {
    "name": "ipython",
    "version": 3
   },
   "file_extension": ".py",
   "mimetype": "text/x-python",
   "name": "python",
   "nbconvert_exporter": "python",
   "pygments_lexer": "ipython3",
   "version": "3.11.5"
  }
 },
 "nbformat": 4,
 "nbformat_minor": 5
}
